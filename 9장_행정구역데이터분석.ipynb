{
 "cells": [
  {
   "cell_type": "markdown",
   "metadata": {},
   "source": [
    "# 9장. 지리 정보 분석 (2) 행정구역별 데이터 분석 + 블록맵"
   ]
  },
  {
   "cell_type": "markdown",
   "metadata": {},
   "source": [
    "# 1. 데이터 준비 및 탐색"
   ]
  },
  {
   "cell_type": "code",
   "execution_count": 1,
   "metadata": {},
   "outputs": [
    {
     "data": {
      "text/html": [
       "<div>\n",
       "<style scoped>\n",
       "    .dataframe tbody tr th:only-of-type {\n",
       "        vertical-align: middle;\n",
       "    }\n",
       "\n",
       "    .dataframe tbody tr th {\n",
       "        vertical-align: top;\n",
       "    }\n",
       "\n",
       "    .dataframe thead th {\n",
       "        text-align: right;\n",
       "    }\n",
       "</style>\n",
       "<table border=\"1\" class=\"dataframe\">\n",
       "  <thead>\n",
       "    <tr style=\"text-align: right;\">\n",
       "      <th></th>\n",
       "      <th>병원 명</th>\n",
       "      <th>설립형태</th>\n",
       "      <th>근거 법령</th>\n",
       "      <th>관계 행정기관</th>\n",
       "      <th>관계 공공단체</th>\n",
       "      <th>심평원 요양기관번호</th>\n",
       "      <th>종별구분</th>\n",
       "      <th>병상수</th>\n",
       "      <th>소재지 우편번호</th>\n",
       "      <th>주소</th>\n",
       "      <th>홈페이지</th>\n",
       "      <th>대표전화</th>\n",
       "      <th>FAX</th>\n",
       "      <th>비고</th>\n",
       "    </tr>\n",
       "    <tr>\n",
       "      <th>연번</th>\n",
       "      <th></th>\n",
       "      <th></th>\n",
       "      <th></th>\n",
       "      <th></th>\n",
       "      <th></th>\n",
       "      <th></th>\n",
       "      <th></th>\n",
       "      <th></th>\n",
       "      <th></th>\n",
       "      <th></th>\n",
       "      <th></th>\n",
       "      <th></th>\n",
       "      <th></th>\n",
       "      <th></th>\n",
       "    </tr>\n",
       "  </thead>\n",
       "  <tbody>\n",
       "    <tr>\n",
       "      <th>1</th>\n",
       "      <td>강원도 재활병원</td>\n",
       "      <td>시도립</td>\n",
       "      <td>강원도재활병원설치및운영에관한조례</td>\n",
       "      <td>강원도</td>\n",
       "      <td>해당없음</td>\n",
       "      <td>32200641</td>\n",
       "      <td>병원</td>\n",
       "      <td>165</td>\n",
       "      <td>24227</td>\n",
       "      <td>강원도 춘천시 충열로 142번길 24-16</td>\n",
       "      <td>www.grh.or.kr</td>\n",
       "      <td>033-248-7700</td>\n",
       "      <td>033-248-7723</td>\n",
       "      <td>NaN</td>\n",
       "    </tr>\n",
       "    <tr>\n",
       "      <th>2</th>\n",
       "      <td>강원도 삼척의료원</td>\n",
       "      <td>특수법인</td>\n",
       "      <td>지방의료원의 설립 및 운영에 관한 법률</td>\n",
       "      <td>보건복지부(강원도)</td>\n",
       "      <td>지방의료원</td>\n",
       "      <td>32100060</td>\n",
       "      <td>종합병원</td>\n",
       "      <td>152</td>\n",
       "      <td>25920</td>\n",
       "      <td>강원도 삼척시 오십천로 418</td>\n",
       "      <td>http://ksmc.or.kr</td>\n",
       "      <td>033-572-1141</td>\n",
       "      <td>033-573-8424</td>\n",
       "      <td>NaN</td>\n",
       "    </tr>\n",
       "    <tr>\n",
       "      <th>3</th>\n",
       "      <td>강원도 영월의료원</td>\n",
       "      <td>특수법인</td>\n",
       "      <td>지방의료원의 설립 및 운영에 관한 법률</td>\n",
       "      <td>보건복지부(강원도)</td>\n",
       "      <td>지방의료원</td>\n",
       "      <td>32100078</td>\n",
       "      <td>종합병원</td>\n",
       "      <td>214</td>\n",
       "      <td>26234</td>\n",
       "      <td>강원도 영월군 영월읍 중앙1로 59</td>\n",
       "      <td>http://www.youngwol.org</td>\n",
       "      <td>033-370-9117</td>\n",
       "      <td>033-370-9137</td>\n",
       "      <td>NaN</td>\n",
       "    </tr>\n",
       "    <tr>\n",
       "      <th>4</th>\n",
       "      <td>강원도 원주의료원</td>\n",
       "      <td>특수법인</td>\n",
       "      <td>지방의료원의 설립 및 운영에 관한 법률</td>\n",
       "      <td>보건복지부(강원도)</td>\n",
       "      <td>지방의료원</td>\n",
       "      <td>32100086</td>\n",
       "      <td>종합병원</td>\n",
       "      <td>237</td>\n",
       "      <td>26448</td>\n",
       "      <td>강원도 원주시 서원대로 387(개운동)</td>\n",
       "      <td>www.kwmc.or.kr</td>\n",
       "      <td>033-760-4500</td>\n",
       "      <td>033-761-5121</td>\n",
       "      <td>NaN</td>\n",
       "    </tr>\n",
       "    <tr>\n",
       "      <th>5</th>\n",
       "      <td>강원도 강릉의료원</td>\n",
       "      <td>특수법인</td>\n",
       "      <td>지방의료원의 설립 및 운영에 관한 법률</td>\n",
       "      <td>보건복지부(강원도)</td>\n",
       "      <td>지방의료원</td>\n",
       "      <td>32100159</td>\n",
       "      <td>종합병원</td>\n",
       "      <td>137</td>\n",
       "      <td>25535</td>\n",
       "      <td>강원도 강릉시 경강로 2007(남문동 164-1)</td>\n",
       "      <td>http://www.gnmc.or.kr</td>\n",
       "      <td>033-646-6910</td>\n",
       "      <td>033-610-1415</td>\n",
       "      <td>NaN</td>\n",
       "    </tr>\n",
       "  </tbody>\n",
       "</table>\n",
       "</div>"
      ],
      "text/plain": [
       "         병원 명  설립형태                  근거 법령     관계 행정기관 관계 공공단체  심평원 요양기관번호  \\\n",
       "연번                                                                           \n",
       "1    강원도 재활병원   시도립      강원도재활병원설치및운영에관한조례         강원도    해당없음    32200641   \n",
       "2   강원도 삼척의료원  특수법인  지방의료원의 설립 및 운영에 관한 법률  보건복지부(강원도)   지방의료원    32100060   \n",
       "3   강원도 영월의료원  특수법인  지방의료원의 설립 및 운영에 관한 법률  보건복지부(강원도)   지방의료원    32100078   \n",
       "4   강원도 원주의료원  특수법인  지방의료원의 설립 및 운영에 관한 법률  보건복지부(강원도)   지방의료원    32100086   \n",
       "5   강원도 강릉의료원  특수법인  지방의료원의 설립 및 운영에 관한 법률  보건복지부(강원도)   지방의료원    32100159   \n",
       "\n",
       "    종별구분  병상수 소재지 우편번호                           주소                     홈페이지  \\\n",
       "연번                                                                             \n",
       "1     병원  165    24227      강원도 춘천시 충열로 142번길 24-16            www.grh.or.kr   \n",
       "2   종합병원  152    25920             강원도 삼척시 오십천로 418        http://ksmc.or.kr   \n",
       "3   종합병원  214    26234          강원도 영월군 영월읍 중앙1로 59  http://www.youngwol.org   \n",
       "4   종합병원  237    26448        강원도 원주시 서원대로 387(개운동)           www.kwmc.or.kr   \n",
       "5   종합병원  137    25535  강원도 강릉시 경강로 2007(남문동 164-1)    http://www.gnmc.or.kr   \n",
       "\n",
       "            대표전화           FAX   비고  \n",
       "연번                                   \n",
       "1   033-248-7700  033-248-7723  NaN  \n",
       "2   033-572-1141  033-573-8424  NaN  \n",
       "3   033-370-9117  033-370-9137  NaN  \n",
       "4   033-760-4500  033-761-5121  NaN  \n",
       "5   033-646-6910  033-610-1415  NaN  "
      ]
     },
     "execution_count": 1,
     "metadata": {},
     "output_type": "execute_result"
    }
   ],
   "source": [
    "import pandas as pd\n",
    "pd.set_option('mode.chained_assignment',  None) # Warning 방지용\n",
    "import numpy as np\n",
    "\n",
    "data = pd.read_csv('./공공보건의료기관현황.csv', index_col=0, encoding='CP949', engine='python')\n",
    "\n",
    "data.head() #작업내용 확인용 출력"
   ]
  },
  {
   "cell_type": "code",
   "execution_count": 2,
   "metadata": {},
   "outputs": [
    {
     "data": {
      "text/html": [
       "<div>\n",
       "<style scoped>\n",
       "    .dataframe tbody tr th:only-of-type {\n",
       "        vertical-align: middle;\n",
       "    }\n",
       "\n",
       "    .dataframe tbody tr th {\n",
       "        vertical-align: top;\n",
       "    }\n",
       "\n",
       "    .dataframe thead th {\n",
       "        text-align: right;\n",
       "    }\n",
       "</style>\n",
       "<table border=\"1\" class=\"dataframe\">\n",
       "  <thead>\n",
       "    <tr style=\"text-align: right;\">\n",
       "      <th></th>\n",
       "      <th>시도</th>\n",
       "      <th>군구</th>\n",
       "    </tr>\n",
       "  </thead>\n",
       "  <tbody>\n",
       "    <tr>\n",
       "      <th>0</th>\n",
       "      <td>강원도</td>\n",
       "      <td>춘천시</td>\n",
       "    </tr>\n",
       "    <tr>\n",
       "      <th>1</th>\n",
       "      <td>강원도</td>\n",
       "      <td>삼척시</td>\n",
       "    </tr>\n",
       "    <tr>\n",
       "      <th>2</th>\n",
       "      <td>강원도</td>\n",
       "      <td>영월군</td>\n",
       "    </tr>\n",
       "    <tr>\n",
       "      <th>3</th>\n",
       "      <td>강원도</td>\n",
       "      <td>원주시</td>\n",
       "    </tr>\n",
       "    <tr>\n",
       "      <th>4</th>\n",
       "      <td>강원도</td>\n",
       "      <td>강릉시</td>\n",
       "    </tr>\n",
       "  </tbody>\n",
       "</table>\n",
       "</div>"
      ],
      "text/plain": [
       "    시도   군구\n",
       "0  강원도  춘천시\n",
       "1  강원도  삼척시\n",
       "2  강원도  영월군\n",
       "3  강원도  원주시\n",
       "4  강원도  강릉시"
      ]
     },
     "execution_count": 2,
     "metadata": {},
     "output_type": "execute_result"
    }
   ],
   "source": [
    "## 주소에서 시도, 군구 정보 분리\n",
    "\n",
    "addr = pd.DataFrame(data['주소'].apply(lambda v: v.split()[:2]).tolist(),columns=('시도', '군구'))\n",
    "\n",
    "addr.head()  #작업내용 확인용 출력"
   ]
  },
  {
   "cell_type": "markdown",
   "metadata": {},
   "source": [
    "## 1) 시도 이름 확인하기"
   ]
  },
  {
   "cell_type": "code",
   "execution_count": 3,
   "metadata": {},
   "outputs": [
    {
     "data": {
      "text/plain": [
       "array(['강원도', '경기도', '경기', '경남', '창원시', '경상남도', '경상북도', '경산시', '경북',\n",
       "       '인천광역시', '대구광역시', '전라남도', '대전광역시', '광주광역시', '제주특별자치도', '부산광역시',\n",
       "       '전라북도', '충북', '서울특별시', '서울시', '부산특별시', '대전시', '충남', '전남', '충청남도',\n",
       "       '울산광역시', '전북', '천안시', '충청북도'], dtype=object)"
      ]
     },
     "execution_count": 3,
     "metadata": {},
     "output_type": "execute_result"
    }
   ],
   "source": [
    "addr['시도'].unique()"
   ]
  },
  {
   "cell_type": "markdown",
   "metadata": {},
   "source": [
    "### #잘못된 시도 이름 수정 : 창원시, 경산시, 천안시"
   ]
  },
  {
   "cell_type": "markdown",
   "metadata": {},
   "source": [
    "#### (1) '창원시'를 찾아서 '경상남도 창원시'로 수정"
   ]
  },
  {
   "cell_type": "code",
   "execution_count": 4,
   "metadata": {},
   "outputs": [
    {
     "data": {
      "text/html": [
       "<div>\n",
       "<style scoped>\n",
       "    .dataframe tbody tr th:only-of-type {\n",
       "        vertical-align: middle;\n",
       "    }\n",
       "\n",
       "    .dataframe tbody tr th {\n",
       "        vertical-align: top;\n",
       "    }\n",
       "\n",
       "    .dataframe thead th {\n",
       "        text-align: right;\n",
       "    }\n",
       "</style>\n",
       "<table border=\"1\" class=\"dataframe\">\n",
       "  <thead>\n",
       "    <tr style=\"text-align: right;\">\n",
       "      <th></th>\n",
       "      <th>시도</th>\n",
       "      <th>군구</th>\n",
       "    </tr>\n",
       "  </thead>\n",
       "  <tbody>\n",
       "    <tr>\n",
       "      <th>27</th>\n",
       "      <td>창원시</td>\n",
       "      <td>의창구</td>\n",
       "    </tr>\n",
       "    <tr>\n",
       "      <th>31</th>\n",
       "      <td>창원시</td>\n",
       "      <td>마산합포구3.15대로</td>\n",
       "    </tr>\n",
       "  </tbody>\n",
       "</table>\n",
       "</div>"
      ],
      "text/plain": [
       "     시도           군구\n",
       "27  창원시          의창구\n",
       "31  창원시  마산합포구3.15대로"
      ]
     },
     "execution_count": 4,
     "metadata": {},
     "output_type": "execute_result"
    }
   ],
   "source": [
    "addr[addr['시도'] == '창원시']"
   ]
  },
  {
   "cell_type": "code",
   "execution_count": 5,
   "metadata": {},
   "outputs": [],
   "source": [
    "## 표준 행정구역 이름으로 수정 : 창원시-> 경상남도 창원시\n",
    "addr.iloc[27] = ['경상남도', '창원시']\n",
    "addr.iloc[31] = ['경상남도', '창원시']"
   ]
  },
  {
   "cell_type": "code",
   "execution_count": null,
   "metadata": {},
   "outputs": [],
   "source": [
    "addr.iloc[27]"
   ]
  },
  {
   "cell_type": "code",
   "execution_count": null,
   "metadata": {},
   "outputs": [],
   "source": [
    "addr.iloc[31]"
   ]
  },
  {
   "cell_type": "markdown",
   "metadata": {},
   "source": [
    "#### (2) '경산시'를 찾아서 '경상북도 경산시'로 수정"
   ]
  },
  {
   "cell_type": "code",
   "execution_count": 12,
   "metadata": {},
   "outputs": [
    {
     "data": {
      "text/html": [
       "<div>\n",
       "<style scoped>\n",
       "    .dataframe tbody tr th:only-of-type {\n",
       "        vertical-align: middle;\n",
       "    }\n",
       "\n",
       "    .dataframe tbody tr th {\n",
       "        vertical-align: top;\n",
       "    }\n",
       "\n",
       "    .dataframe thead th {\n",
       "        text-align: right;\n",
       "    }\n",
       "</style>\n",
       "<table border=\"1\" class=\"dataframe\">\n",
       "  <thead>\n",
       "    <tr style=\"text-align: right;\">\n",
       "      <th></th>\n",
       "      <th>시도</th>\n",
       "      <th>군구</th>\n",
       "    </tr>\n",
       "  </thead>\n",
       "  <tbody>\n",
       "  </tbody>\n",
       "</table>\n",
       "</div>"
      ],
      "text/plain": [
       "Empty DataFrame\n",
       "Columns: [시도, 군구]\n",
       "Index: []"
      ]
     },
     "execution_count": 12,
     "metadata": {},
     "output_type": "execute_result"
    }
   ],
   "source": [
    "addr[addr['시도'] == '경산시']"
   ]
  },
  {
   "cell_type": "code",
   "execution_count": 15,
   "metadata": {},
   "outputs": [
    {
     "data": {
      "text/plain": [
       "시도    경상북도\n",
       "군구     경산시\n",
       "Name: 47, dtype: object"
      ]
     },
     "execution_count": 15,
     "metadata": {},
     "output_type": "execute_result"
    }
   ],
   "source": [
    "addr.loc[addr['시도']=='경산시'] = ['경상북도','경안시']\n",
    "addr.loc[47]"
   ]
  },
  {
   "cell_type": "code",
   "execution_count": 14,
   "metadata": {},
   "outputs": [
    {
     "data": {
      "text/plain": [
       "시도    경상북도\n",
       "군구     경산시\n",
       "Name: 47, dtype: object"
      ]
     },
     "execution_count": 14,
     "metadata": {},
     "output_type": "execute_result"
    }
   ],
   "source": [
    "addr.iloc[47] = ['경상북도', '경산시']\n",
    "addr.iloc[47]"
   ]
  },
  {
   "cell_type": "markdown",
   "metadata": {},
   "source": [
    "#### (3) '천안시'를 찾아서 '충청남도 천안시'로 수정"
   ]
  },
  {
   "cell_type": "code",
   "execution_count": 16,
   "metadata": {},
   "outputs": [
    {
     "data": {
      "text/html": [
       "<div>\n",
       "<style scoped>\n",
       "    .dataframe tbody tr th:only-of-type {\n",
       "        vertical-align: middle;\n",
       "    }\n",
       "\n",
       "    .dataframe tbody tr th {\n",
       "        vertical-align: top;\n",
       "    }\n",
       "\n",
       "    .dataframe thead th {\n",
       "        text-align: right;\n",
       "    }\n",
       "</style>\n",
       "<table border=\"1\" class=\"dataframe\">\n",
       "  <thead>\n",
       "    <tr style=\"text-align: right;\">\n",
       "      <th></th>\n",
       "      <th>시도</th>\n",
       "      <th>군구</th>\n",
       "    </tr>\n",
       "  </thead>\n",
       "  <tbody>\n",
       "    <tr>\n",
       "      <th>209</th>\n",
       "      <td>천안시</td>\n",
       "      <td>동남구</td>\n",
       "    </tr>\n",
       "    <tr>\n",
       "      <th>210</th>\n",
       "      <td>천안시</td>\n",
       "      <td>동남구</td>\n",
       "    </tr>\n",
       "  </tbody>\n",
       "</table>\n",
       "</div>"
      ],
      "text/plain": [
       "      시도   군구\n",
       "209  천안시  동남구\n",
       "210  천안시  동남구"
      ]
     },
     "execution_count": 16,
     "metadata": {},
     "output_type": "execute_result"
    }
   ],
   "source": [
    "addr[addr['시도'] == '천안시']"
   ]
  },
  {
   "cell_type": "code",
   "execution_count": 17,
   "metadata": {},
   "outputs": [],
   "source": [
    "## 표준 행정구역 이름으로 수정 : 천안시-> 충청남도 천안시\n",
    "addr.iloc[209] = ['충청남도', '천안시']\n",
    "addr.iloc[210] = ['충청남도', '천안시']"
   ]
  },
  {
   "cell_type": "code",
   "execution_count": null,
   "metadata": {},
   "outputs": [],
   "source": [
    "addr.iloc[209]"
   ]
  },
  {
   "cell_type": "code",
   "execution_count": null,
   "metadata": {},
   "outputs": [],
   "source": [
    "addr.iloc[210]"
   ]
  },
  {
   "cell_type": "code",
   "execution_count": 18,
   "metadata": {},
   "outputs": [
    {
     "data": {
      "text/plain": [
       "array(['강원도', '경기도', '경기', '경남', '경상남도', '경상북도', '경북', '인천광역시', '대구광역시',\n",
       "       '전라남도', '대전광역시', '광주광역시', '제주특별자치도', '부산광역시', '전라북도', '충북',\n",
       "       '서울특별시', '서울시', '부산특별시', '대전시', '충남', '전남', '충청남도', '울산광역시', '전북',\n",
       "       '충청북도'], dtype=object)"
      ]
     },
     "execution_count": 18,
     "metadata": {},
     "output_type": "execute_result"
    }
   ],
   "source": [
    "# 작업 결과 확인하기\n",
    "addr['시도'].unique()"
   ]
  },
  {
   "cell_type": "markdown",
   "metadata": {},
   "source": [
    "### # 시도 이름을 표준이름으로 수정"
   ]
  },
  {
   "cell_type": "code",
   "execution_count": 19,
   "metadata": {},
   "outputs": [],
   "source": [
    "## 표준 행정구역 이름으로 수정 :  경기 -> 경기도, 경남 -> 경상남도, ...\n",
    "addr_aliases = {'경기':'경기도', '경남':'경상남도', '경북':'경상북도', '충북':'충청북도', '서울시':'서울특별시', '부산특별시':'부산광역시', '대전시':'대전광역시', '충남':'충청남도', '전남':'전라남도', '전북':'전라북도'}"
   ]
  },
  {
   "cell_type": "code",
   "execution_count": 20,
   "metadata": {},
   "outputs": [],
   "source": [
    "addr['시도']= addr['시도'].apply(lambda v: addr_aliases.get(v, v))"
   ]
  },
  {
   "cell_type": "code",
   "execution_count": 21,
   "metadata": {},
   "outputs": [
    {
     "data": {
      "text/plain": [
       "array(['강원도', '경기도', '경상남도', '경상북도', '인천광역시', '대구광역시', '전라남도', '대전광역시',\n",
       "       '광주광역시', '제주특별자치도', '부산광역시', '전라북도', '충청북도', '서울특별시', '충청남도',\n",
       "       '울산광역시'], dtype=object)"
      ]
     },
     "execution_count": 21,
     "metadata": {},
     "output_type": "execute_result"
    }
   ],
   "source": [
    "# 작업 결과 확인하기\n",
    "addr['시도'].unique()"
   ]
  },
  {
   "cell_type": "markdown",
   "metadata": {},
   "source": [
    "## 2) 군구 이름 확인하기 "
   ]
  },
  {
   "cell_type": "code",
   "execution_count": 22,
   "metadata": {},
   "outputs": [
    {
     "data": {
      "text/plain": [
       "array(['춘천시', '삼척시', '영월군', '원주시', '강릉시', '속초시', '정선군', '수원시', '이천시',\n",
       "       '안성시', '의정부시', '포천시', '파주시', '용인시', '평택시', '시흥시', '여주시', '남양주시',\n",
       "       '동두천시', '안산시', '부천시', '통영시', '사천시', '창원시', '김해시', '양산시', '거창군',\n",
       "       '남해군', '의령군', '포항시', '김천시', '안동시', '울진군', '경주시', '구미시', '영주시',\n",
       "       '상주시', '문경시', '경산시', '의성군', '청도군', '고령군', '칠곡군', '봉화군', '울릉군',\n",
       "       '부평구', '북구', '순천시', '대덕구', '태백시', '동해시', '화성시', '광산구', '남구', '중구',\n",
       "       '아란13길', '서구', '전주시', '진주시', '청주시', '종로구', '성남시', '동구', '화순군',\n",
       "       '강동구', '사상구', '달서구', '해운대구', '유성구', '가평군', '양주시', '고양시', '홍천군',\n",
       "       '양구군', '청원군', '계룡시', '논산시', '함평군', '양평군', '수성구', '달성군', '연수구',\n",
       "       '노원구', '기장군', '공주시', '강북구', '광진구', '나주시', '창녕군', '목포시', '고흥군',\n",
       "       '연제구', '동매로', '서초구', '은평구', '중랑구', '강남구', '동작구', '동대문구', '양천구',\n",
       "       '성동구', '송파구', '울주군', '계양구', '옹진군', '보성군', '광양시', '영광군', '무안군',\n",
       "       '진도군', '강진군', '곡성군', '여수시', '신안군', '장성군', '완주군', '부안군', '정읍시',\n",
       "       '남원시', '군산시', '고창군', '진안군', '제주시', '서귀포시', '천안시', '보령시', '서산시',\n",
       "       '서천군', '홍성군', '제천시', '충주시', '영동군', '단양군'], dtype=object)"
      ]
     },
     "execution_count": 22,
     "metadata": {},
     "output_type": "execute_result"
    }
   ],
   "source": [
    "addr['군구'].unique()"
   ]
  },
  {
   "cell_type": "markdown",
   "metadata": {},
   "source": [
    "### # 잘못된 군구 이름 수정하기 "
   ]
  },
  {
   "cell_type": "markdown",
   "metadata": {},
   "source": [
    "#### (1) '아란13길' 을 '제주특별자치도'  '제주시'로 수정"
   ]
  },
  {
   "cell_type": "code",
   "execution_count": 23,
   "metadata": {},
   "outputs": [
    {
     "data": {
      "text/html": [
       "<div>\n",
       "<style scoped>\n",
       "    .dataframe tbody tr th:only-of-type {\n",
       "        vertical-align: middle;\n",
       "    }\n",
       "\n",
       "    .dataframe tbody tr th {\n",
       "        vertical-align: top;\n",
       "    }\n",
       "\n",
       "    .dataframe thead th {\n",
       "        text-align: right;\n",
       "    }\n",
       "</style>\n",
       "<table border=\"1\" class=\"dataframe\">\n",
       "  <thead>\n",
       "    <tr style=\"text-align: right;\">\n",
       "      <th></th>\n",
       "      <th>시도</th>\n",
       "      <th>군구</th>\n",
       "    </tr>\n",
       "  </thead>\n",
       "  <tbody>\n",
       "    <tr>\n",
       "      <th>75</th>\n",
       "      <td>제주특별자치도</td>\n",
       "      <td>아란13길</td>\n",
       "    </tr>\n",
       "  </tbody>\n",
       "</table>\n",
       "</div>"
      ],
      "text/plain": [
       "         시도     군구\n",
       "75  제주특별자치도  아란13길"
      ]
     },
     "execution_count": 23,
     "metadata": {},
     "output_type": "execute_result"
    }
   ],
   "source": [
    "addr[addr['군구'] == '아란13길']"
   ]
  },
  {
   "cell_type": "code",
   "execution_count": 24,
   "metadata": {},
   "outputs": [
    {
     "data": {
      "text/plain": [
       "시도    제주특별자치도\n",
       "군구        제주시\n",
       "Name: 75, dtype: object"
      ]
     },
     "execution_count": 24,
     "metadata": {},
     "output_type": "execute_result"
    }
   ],
   "source": [
    "addr.iloc[75] = ['제주특별자치도', '제주시']\n",
    "\n",
    "addr.iloc[75]"
   ]
  },
  {
   "cell_type": "code",
   "execution_count": 25,
   "metadata": {},
   "outputs": [
    {
     "data": {
      "text/plain": [
       "array(['춘천시', '삼척시', '영월군', '원주시', '강릉시', '속초시', '정선군', '수원시', '이천시',\n",
       "       '안성시', '의정부시', '포천시', '파주시', '용인시', '평택시', '시흥시', '여주시', '남양주시',\n",
       "       '동두천시', '안산시', '부천시', '통영시', '사천시', '창원시', '김해시', '양산시', '거창군',\n",
       "       '남해군', '의령군', '포항시', '김천시', '안동시', '울진군', '경주시', '구미시', '영주시',\n",
       "       '상주시', '문경시', '경산시', '의성군', '청도군', '고령군', '칠곡군', '봉화군', '울릉군',\n",
       "       '부평구', '북구', '순천시', '대덕구', '태백시', '동해시', '화성시', '광산구', '남구', '중구',\n",
       "       '제주시', '서구', '전주시', '진주시', '청주시', '종로구', '성남시', '동구', '화순군', '강동구',\n",
       "       '사상구', '달서구', '해운대구', '유성구', '가평군', '양주시', '고양시', '홍천군', '양구군',\n",
       "       '청원군', '계룡시', '논산시', '함평군', '양평군', '수성구', '달성군', '연수구', '노원구',\n",
       "       '기장군', '공주시', '강북구', '광진구', '나주시', '창녕군', '목포시', '고흥군', '연제구',\n",
       "       '동매로', '서초구', '은평구', '중랑구', '강남구', '동작구', '동대문구', '양천구', '성동구',\n",
       "       '송파구', '울주군', '계양구', '옹진군', '보성군', '광양시', '영광군', '무안군', '진도군',\n",
       "       '강진군', '곡성군', '여수시', '신안군', '장성군', '완주군', '부안군', '정읍시', '남원시',\n",
       "       '군산시', '고창군', '진안군', '서귀포시', '천안시', '보령시', '서산시', '서천군', '홍성군',\n",
       "       '제천시', '충주시', '영동군', '단양군'], dtype=object)"
      ]
     },
     "execution_count": 25,
     "metadata": {},
     "output_type": "execute_result"
    }
   ],
   "source": [
    "addr['군구'].unique()"
   ]
  },
  {
   "cell_type": "markdown",
   "metadata": {},
   "source": [
    "## 3) 행정구역별 공공보건의료기관의 수 구하기"
   ]
  },
  {
   "cell_type": "markdown",
   "metadata": {},
   "source": [
    "### (1) '시도' 와 '군구' 컬럼 결합하기"
   ]
  },
  {
   "cell_type": "code",
   "execution_count": 26,
   "metadata": {},
   "outputs": [
    {
     "data": {
      "text/html": [
       "<div>\n",
       "<style scoped>\n",
       "    .dataframe tbody tr th:only-of-type {\n",
       "        vertical-align: middle;\n",
       "    }\n",
       "\n",
       "    .dataframe tbody tr th {\n",
       "        vertical-align: top;\n",
       "    }\n",
       "\n",
       "    .dataframe thead th {\n",
       "        text-align: right;\n",
       "    }\n",
       "</style>\n",
       "<table border=\"1\" class=\"dataframe\">\n",
       "  <thead>\n",
       "    <tr style=\"text-align: right;\">\n",
       "      <th></th>\n",
       "      <th>시도</th>\n",
       "      <th>군구</th>\n",
       "      <th>시도군구</th>\n",
       "    </tr>\n",
       "  </thead>\n",
       "  <tbody>\n",
       "    <tr>\n",
       "      <th>0</th>\n",
       "      <td>강원도</td>\n",
       "      <td>춘천시</td>\n",
       "      <td>강원도 춘천시</td>\n",
       "    </tr>\n",
       "    <tr>\n",
       "      <th>1</th>\n",
       "      <td>강원도</td>\n",
       "      <td>삼척시</td>\n",
       "      <td>강원도 삼척시</td>\n",
       "    </tr>\n",
       "    <tr>\n",
       "      <th>2</th>\n",
       "      <td>강원도</td>\n",
       "      <td>영월군</td>\n",
       "      <td>강원도 영월군</td>\n",
       "    </tr>\n",
       "    <tr>\n",
       "      <th>3</th>\n",
       "      <td>강원도</td>\n",
       "      <td>원주시</td>\n",
       "      <td>강원도 원주시</td>\n",
       "    </tr>\n",
       "    <tr>\n",
       "      <th>4</th>\n",
       "      <td>강원도</td>\n",
       "      <td>강릉시</td>\n",
       "      <td>강원도 강릉시</td>\n",
       "    </tr>\n",
       "  </tbody>\n",
       "</table>\n",
       "</div>"
      ],
      "text/plain": [
       "    시도   군구     시도군구\n",
       "0  강원도  춘천시  강원도 춘천시\n",
       "1  강원도  삼척시  강원도 삼척시\n",
       "2  강원도  영월군  강원도 영월군\n",
       "3  강원도  원주시  강원도 원주시\n",
       "4  강원도  강릉시  강원도 강릉시"
      ]
     },
     "execution_count": 26,
     "metadata": {},
     "output_type": "execute_result"
    }
   ],
   "source": [
    "addr['시도군구'] = addr.apply(lambda r: r['시도'] + ' ' + r['군구'], axis=1)\n",
    "\n",
    "addr.head() #작업 확인용 출력"
   ]
  },
  {
   "cell_type": "code",
   "execution_count": 27,
   "metadata": {
    "scrolled": true
   },
   "outputs": [
    {
     "data": {
      "text/html": [
       "<div>\n",
       "<style scoped>\n",
       "    .dataframe tbody tr th:only-of-type {\n",
       "        vertical-align: middle;\n",
       "    }\n",
       "\n",
       "    .dataframe tbody tr th {\n",
       "        vertical-align: top;\n",
       "    }\n",
       "\n",
       "    .dataframe thead th {\n",
       "        text-align: right;\n",
       "    }\n",
       "</style>\n",
       "<table border=\"1\" class=\"dataframe\">\n",
       "  <thead>\n",
       "    <tr style=\"text-align: right;\">\n",
       "      <th></th>\n",
       "      <th>시도</th>\n",
       "      <th>군구</th>\n",
       "      <th>시도군구</th>\n",
       "      <th>count</th>\n",
       "    </tr>\n",
       "  </thead>\n",
       "  <tbody>\n",
       "    <tr>\n",
       "      <th>0</th>\n",
       "      <td>강원도</td>\n",
       "      <td>춘천시</td>\n",
       "      <td>강원도 춘천시</td>\n",
       "      <td>0</td>\n",
       "    </tr>\n",
       "    <tr>\n",
       "      <th>1</th>\n",
       "      <td>강원도</td>\n",
       "      <td>삼척시</td>\n",
       "      <td>강원도 삼척시</td>\n",
       "      <td>0</td>\n",
       "    </tr>\n",
       "    <tr>\n",
       "      <th>2</th>\n",
       "      <td>강원도</td>\n",
       "      <td>영월군</td>\n",
       "      <td>강원도 영월군</td>\n",
       "      <td>0</td>\n",
       "    </tr>\n",
       "    <tr>\n",
       "      <th>3</th>\n",
       "      <td>강원도</td>\n",
       "      <td>원주시</td>\n",
       "      <td>강원도 원주시</td>\n",
       "      <td>0</td>\n",
       "    </tr>\n",
       "    <tr>\n",
       "      <th>4</th>\n",
       "      <td>강원도</td>\n",
       "      <td>강릉시</td>\n",
       "      <td>강원도 강릉시</td>\n",
       "      <td>0</td>\n",
       "    </tr>\n",
       "  </tbody>\n",
       "</table>\n",
       "</div>"
      ],
      "text/plain": [
       "    시도   군구     시도군구  count\n",
       "0  강원도  춘천시  강원도 춘천시      0\n",
       "1  강원도  삼척시  강원도 삼척시      0\n",
       "2  강원도  영월군  강원도 영월군      0\n",
       "3  강원도  원주시  강원도 원주시      0\n",
       "4  강원도  강릉시  강원도 강릉시      0"
      ]
     },
     "execution_count": 27,
     "metadata": {},
     "output_type": "execute_result"
    }
   ],
   "source": [
    "addr['count'] = 0  # 의료기관수 합계를 저장할 컬럼 만들기\n",
    "\n",
    "addr.head() #작업 확인용 출력"
   ]
  },
  {
   "cell_type": "markdown",
   "metadata": {},
   "source": [
    "### (2) '시도군구' 를 기준으로 그룹을 만들고, 그룹별 의료기관수 합계 구하기"
   ]
  },
  {
   "cell_type": "code",
   "execution_count": 28,
   "metadata": {
    "scrolled": true
   },
   "outputs": [
    {
     "data": {
      "text/html": [
       "<div>\n",
       "<style scoped>\n",
       "    .dataframe tbody tr th:only-of-type {\n",
       "        vertical-align: middle;\n",
       "    }\n",
       "\n",
       "    .dataframe tbody tr th {\n",
       "        vertical-align: top;\n",
       "    }\n",
       "\n",
       "    .dataframe thead th {\n",
       "        text-align: right;\n",
       "    }\n",
       "</style>\n",
       "<table border=\"1\" class=\"dataframe\">\n",
       "  <thead>\n",
       "    <tr style=\"text-align: right;\">\n",
       "      <th></th>\n",
       "      <th>시도</th>\n",
       "      <th>군구</th>\n",
       "      <th>시도군구</th>\n",
       "      <th>count</th>\n",
       "    </tr>\n",
       "  </thead>\n",
       "  <tbody>\n",
       "    <tr>\n",
       "      <th>0</th>\n",
       "      <td>강원도</td>\n",
       "      <td>강릉시</td>\n",
       "      <td>강원도 강릉시</td>\n",
       "      <td>4</td>\n",
       "    </tr>\n",
       "    <tr>\n",
       "      <th>1</th>\n",
       "      <td>강원도</td>\n",
       "      <td>동해시</td>\n",
       "      <td>강원도 동해시</td>\n",
       "      <td>1</td>\n",
       "    </tr>\n",
       "    <tr>\n",
       "      <th>2</th>\n",
       "      <td>강원도</td>\n",
       "      <td>삼척시</td>\n",
       "      <td>강원도 삼척시</td>\n",
       "      <td>1</td>\n",
       "    </tr>\n",
       "    <tr>\n",
       "      <th>3</th>\n",
       "      <td>강원도</td>\n",
       "      <td>속초시</td>\n",
       "      <td>강원도 속초시</td>\n",
       "      <td>1</td>\n",
       "    </tr>\n",
       "    <tr>\n",
       "      <th>4</th>\n",
       "      <td>강원도</td>\n",
       "      <td>양구군</td>\n",
       "      <td>강원도 양구군</td>\n",
       "      <td>1</td>\n",
       "    </tr>\n",
       "  </tbody>\n",
       "</table>\n",
       "</div>"
      ],
      "text/plain": [
       "    시도   군구     시도군구  count\n",
       "0  강원도  강릉시  강원도 강릉시      4\n",
       "1  강원도  동해시  강원도 동해시      1\n",
       "2  강원도  삼척시  강원도 삼척시      1\n",
       "3  강원도  속초시  강원도 속초시      1\n",
       "4  강원도  양구군  강원도 양구군      1"
      ]
     },
     "execution_count": 28,
     "metadata": {},
     "output_type": "execute_result"
    }
   ],
   "source": [
    "addr_group =pd.DataFrame(addr.groupby(['시도', '군구', '시도군구'], as_index=False).count())\n",
    "\n",
    "addr_group.head()  #작업 확인용 출력"
   ]
  },
  {
   "cell_type": "markdown",
   "metadata": {},
   "source": [
    "### (3) 데이터 병합에 사용할 인덱스 설정하기"
   ]
  },
  {
   "cell_type": "code",
   "execution_count": 29,
   "metadata": {},
   "outputs": [
    {
     "data": {
      "text/html": [
       "<div>\n",
       "<style scoped>\n",
       "    .dataframe tbody tr th:only-of-type {\n",
       "        vertical-align: middle;\n",
       "    }\n",
       "\n",
       "    .dataframe tbody tr th {\n",
       "        vertical-align: top;\n",
       "    }\n",
       "\n",
       "    .dataframe thead th {\n",
       "        text-align: right;\n",
       "    }\n",
       "</style>\n",
       "<table border=\"1\" class=\"dataframe\">\n",
       "  <thead>\n",
       "    <tr style=\"text-align: right;\">\n",
       "      <th></th>\n",
       "      <th>시도</th>\n",
       "      <th>군구</th>\n",
       "      <th>count</th>\n",
       "    </tr>\n",
       "    <tr>\n",
       "      <th>시도군구</th>\n",
       "      <th></th>\n",
       "      <th></th>\n",
       "      <th></th>\n",
       "    </tr>\n",
       "  </thead>\n",
       "  <tbody>\n",
       "    <tr>\n",
       "      <th>강원도 강릉시</th>\n",
       "      <td>강원도</td>\n",
       "      <td>강릉시</td>\n",
       "      <td>4</td>\n",
       "    </tr>\n",
       "    <tr>\n",
       "      <th>강원도 동해시</th>\n",
       "      <td>강원도</td>\n",
       "      <td>동해시</td>\n",
       "      <td>1</td>\n",
       "    </tr>\n",
       "    <tr>\n",
       "      <th>강원도 삼척시</th>\n",
       "      <td>강원도</td>\n",
       "      <td>삼척시</td>\n",
       "      <td>1</td>\n",
       "    </tr>\n",
       "    <tr>\n",
       "      <th>강원도 속초시</th>\n",
       "      <td>강원도</td>\n",
       "      <td>속초시</td>\n",
       "      <td>1</td>\n",
       "    </tr>\n",
       "    <tr>\n",
       "      <th>강원도 양구군</th>\n",
       "      <td>강원도</td>\n",
       "      <td>양구군</td>\n",
       "      <td>1</td>\n",
       "    </tr>\n",
       "  </tbody>\n",
       "</table>\n",
       "</div>"
      ],
      "text/plain": [
       "          시도   군구  count\n",
       "시도군구                    \n",
       "강원도 강릉시  강원도  강릉시      4\n",
       "강원도 동해시  강원도  동해시      1\n",
       "강원도 삼척시  강원도  삼척시      1\n",
       "강원도 속초시  강원도  속초시      1\n",
       "강원도 양구군  강원도  양구군      1"
      ]
     },
     "execution_count": 29,
     "metadata": {},
     "output_type": "execute_result"
    }
   ],
   "source": [
    "addr_group = addr_group.set_index(\"시도군구\")\n",
    "\n",
    "addr_group.head()   #작업 확인용 출력"
   ]
  },
  {
   "cell_type": "markdown",
   "metadata": {},
   "source": [
    "## 4) 행정구역 인구수 컬럼 추가하기"
   ]
  },
  {
   "cell_type": "markdown",
   "metadata": {},
   "source": [
    "####   (1) 행정구역 이름 데이터 불러오기 : 행정구역_시군구_별__성별_인구수_2.xlsx"
   ]
  },
  {
   "cell_type": "code",
   "execution_count": null,
   "metadata": {},
   "outputs": [],
   "source": [
    "#!pip install openpyxl --upgrade # 버전 오류시"
   ]
  },
  {
   "cell_type": "code",
   "execution_count": 31,
   "metadata": {},
   "outputs": [
    {
     "data": {
      "text/html": [
       "<div>\n",
       "<style scoped>\n",
       "    .dataframe tbody tr th:only-of-type {\n",
       "        vertical-align: middle;\n",
       "    }\n",
       "\n",
       "    .dataframe tbody tr th {\n",
       "        vertical-align: top;\n",
       "    }\n",
       "\n",
       "    .dataframe thead th {\n",
       "        text-align: right;\n",
       "    }\n",
       "</style>\n",
       "<table border=\"1\" class=\"dataframe\">\n",
       "  <thead>\n",
       "    <tr style=\"text-align: right;\">\n",
       "      <th></th>\n",
       "      <th>행정구역(시군구)별(1)</th>\n",
       "      <th>행정구역(시군구)별(2)</th>\n",
       "      <th>총인구수 (명)</th>\n",
       "      <th>남자인구수 (명)</th>\n",
       "      <th>여자인구수 (명)</th>\n",
       "    </tr>\n",
       "  </thead>\n",
       "  <tbody>\n",
       "    <tr>\n",
       "      <th>0</th>\n",
       "      <td>전국</td>\n",
       "      <td>소계</td>\n",
       "      <td>51847509</td>\n",
       "      <td>25862863</td>\n",
       "      <td>25984646</td>\n",
       "    </tr>\n",
       "    <tr>\n",
       "      <th>1</th>\n",
       "      <td>서울특별시</td>\n",
       "      <td>소계</td>\n",
       "      <td>9733509</td>\n",
       "      <td>4745088</td>\n",
       "      <td>4988421</td>\n",
       "    </tr>\n",
       "    <tr>\n",
       "      <th>2</th>\n",
       "      <td>서울특별시</td>\n",
       "      <td>종로구</td>\n",
       "      <td>151215</td>\n",
       "      <td>73688</td>\n",
       "      <td>77527</td>\n",
       "    </tr>\n",
       "    <tr>\n",
       "      <th>3</th>\n",
       "      <td>서울특별시</td>\n",
       "      <td>중구</td>\n",
       "      <td>126201</td>\n",
       "      <td>61946</td>\n",
       "      <td>64255</td>\n",
       "    </tr>\n",
       "    <tr>\n",
       "      <th>4</th>\n",
       "      <td>서울특별시</td>\n",
       "      <td>용산구</td>\n",
       "      <td>229385</td>\n",
       "      <td>110701</td>\n",
       "      <td>118684</td>\n",
       "    </tr>\n",
       "  </tbody>\n",
       "</table>\n",
       "</div>"
      ],
      "text/plain": [
       "  행정구역(시군구)별(1) 행정구역(시군구)별(2)  총인구수 (명)  남자인구수 (명)  여자인구수 (명)\n",
       "0            전국            소계  51847509   25862863   25984646\n",
       "1         서울특별시            소계   9733509    4745088    4988421\n",
       "2         서울특별시        　　　종로구    151215      73688      77527\n",
       "3         서울특별시         　　　중구    126201      61946      64255\n",
       "4         서울특별시        　　　용산구    229385     110701     118684"
      ]
     },
     "execution_count": 31,
     "metadata": {},
     "output_type": "execute_result"
    }
   ],
   "source": [
    "population = pd.read_excel('./행정구역_시군구_별__성별_인구수_2.xlsx')\n",
    "\n",
    "population.head()    #작업 확인용 출력"
   ]
  },
  {
   "cell_type": "code",
   "execution_count": 32,
   "metadata": {},
   "outputs": [
    {
     "data": {
      "text/html": [
       "<div>\n",
       "<style scoped>\n",
       "    .dataframe tbody tr th:only-of-type {\n",
       "        vertical-align: middle;\n",
       "    }\n",
       "\n",
       "    .dataframe tbody tr th {\n",
       "        vertical-align: top;\n",
       "    }\n",
       "\n",
       "    .dataframe thead th {\n",
       "        text-align: right;\n",
       "    }\n",
       "</style>\n",
       "<table border=\"1\" class=\"dataframe\">\n",
       "  <thead>\n",
       "    <tr style=\"text-align: right;\">\n",
       "      <th></th>\n",
       "      <th>시도</th>\n",
       "      <th>군구</th>\n",
       "      <th>총인구수 (명)</th>\n",
       "      <th>남자인구수 (명)</th>\n",
       "      <th>여자인구수 (명)</th>\n",
       "    </tr>\n",
       "  </thead>\n",
       "  <tbody>\n",
       "    <tr>\n",
       "      <th>0</th>\n",
       "      <td>전국</td>\n",
       "      <td>소계</td>\n",
       "      <td>51847509</td>\n",
       "      <td>25862863</td>\n",
       "      <td>25984646</td>\n",
       "    </tr>\n",
       "    <tr>\n",
       "      <th>1</th>\n",
       "      <td>서울특별시</td>\n",
       "      <td>소계</td>\n",
       "      <td>9733509</td>\n",
       "      <td>4745088</td>\n",
       "      <td>4988421</td>\n",
       "    </tr>\n",
       "    <tr>\n",
       "      <th>2</th>\n",
       "      <td>서울특별시</td>\n",
       "      <td>종로구</td>\n",
       "      <td>151215</td>\n",
       "      <td>73688</td>\n",
       "      <td>77527</td>\n",
       "    </tr>\n",
       "    <tr>\n",
       "      <th>3</th>\n",
       "      <td>서울특별시</td>\n",
       "      <td>중구</td>\n",
       "      <td>126201</td>\n",
       "      <td>61946</td>\n",
       "      <td>64255</td>\n",
       "    </tr>\n",
       "    <tr>\n",
       "      <th>4</th>\n",
       "      <td>서울특별시</td>\n",
       "      <td>용산구</td>\n",
       "      <td>229385</td>\n",
       "      <td>110701</td>\n",
       "      <td>118684</td>\n",
       "    </tr>\n",
       "  </tbody>\n",
       "</table>\n",
       "</div>"
      ],
      "text/plain": [
       "      시도      군구  총인구수 (명)  남자인구수 (명)  여자인구수 (명)\n",
       "0     전국      소계  51847509   25862863   25984646\n",
       "1  서울특별시      소계   9733509    4745088    4988421\n",
       "2  서울특별시  　　　종로구    151215      73688      77527\n",
       "3  서울특별시   　　　중구    126201      61946      64255\n",
       "4  서울특별시  　　　용산구    229385     110701     118684"
      ]
     },
     "execution_count": 32,
     "metadata": {},
     "output_type": "execute_result"
    }
   ],
   "source": [
    "population = population.rename(columns = {'행정구역(시군구)별(1)': '시도', '행정구역(시군구)별(2)': '군구'}) #컬럼이름 변경\n",
    "\n",
    "population.head()  #작업 확인용 출력"
   ]
  },
  {
   "cell_type": "markdown",
   "metadata": {},
   "source": [
    "####   (2) 병합에 사용할 공통 컬럼 '시도군구' 추가하기"
   ]
  },
  {
   "cell_type": "code",
   "execution_count": 35,
   "metadata": {},
   "outputs": [],
   "source": [
    "# '군구' 컬럼에서 공백 제거하기\n",
    "for element in range(0,len(population)):\n",
    "    #population['군구'][element] = population['군구'][element].strip()\n",
    "    population.loc[element, '군구'] = population.loc[element,'군구'].strip()"
   ]
  },
  {
   "cell_type": "code",
   "execution_count": 36,
   "metadata": {},
   "outputs": [
    {
     "data": {
      "text/html": [
       "<div>\n",
       "<style scoped>\n",
       "    .dataframe tbody tr th:only-of-type {\n",
       "        vertical-align: middle;\n",
       "    }\n",
       "\n",
       "    .dataframe tbody tr th {\n",
       "        vertical-align: top;\n",
       "    }\n",
       "\n",
       "    .dataframe thead th {\n",
       "        text-align: right;\n",
       "    }\n",
       "</style>\n",
       "<table border=\"1\" class=\"dataframe\">\n",
       "  <thead>\n",
       "    <tr style=\"text-align: right;\">\n",
       "      <th></th>\n",
       "      <th>시도</th>\n",
       "      <th>군구</th>\n",
       "      <th>총인구수 (명)</th>\n",
       "      <th>남자인구수 (명)</th>\n",
       "      <th>여자인구수 (명)</th>\n",
       "      <th>시도군구</th>\n",
       "    </tr>\n",
       "  </thead>\n",
       "  <tbody>\n",
       "    <tr>\n",
       "      <th>0</th>\n",
       "      <td>전국</td>\n",
       "      <td>소계</td>\n",
       "      <td>51847509</td>\n",
       "      <td>25862863</td>\n",
       "      <td>25984646</td>\n",
       "      <td>전국 소계</td>\n",
       "    </tr>\n",
       "    <tr>\n",
       "      <th>1</th>\n",
       "      <td>서울특별시</td>\n",
       "      <td>소계</td>\n",
       "      <td>9733509</td>\n",
       "      <td>4745088</td>\n",
       "      <td>4988421</td>\n",
       "      <td>서울특별시 소계</td>\n",
       "    </tr>\n",
       "    <tr>\n",
       "      <th>2</th>\n",
       "      <td>서울특별시</td>\n",
       "      <td>종로구</td>\n",
       "      <td>151215</td>\n",
       "      <td>73688</td>\n",
       "      <td>77527</td>\n",
       "      <td>서울특별시 종로구</td>\n",
       "    </tr>\n",
       "    <tr>\n",
       "      <th>3</th>\n",
       "      <td>서울특별시</td>\n",
       "      <td>중구</td>\n",
       "      <td>126201</td>\n",
       "      <td>61946</td>\n",
       "      <td>64255</td>\n",
       "      <td>서울특별시 중구</td>\n",
       "    </tr>\n",
       "    <tr>\n",
       "      <th>4</th>\n",
       "      <td>서울특별시</td>\n",
       "      <td>용산구</td>\n",
       "      <td>229385</td>\n",
       "      <td>110701</td>\n",
       "      <td>118684</td>\n",
       "      <td>서울특별시 용산구</td>\n",
       "    </tr>\n",
       "  </tbody>\n",
       "</table>\n",
       "</div>"
      ],
      "text/plain": [
       "      시도   군구  총인구수 (명)  남자인구수 (명)  여자인구수 (명)       시도군구\n",
       "0     전국   소계  51847509   25862863   25984646      전국 소계\n",
       "1  서울특별시   소계   9733509    4745088    4988421   서울특별시 소계\n",
       "2  서울특별시  종로구    151215      73688      77527  서울특별시 종로구\n",
       "3  서울특별시   중구    126201      61946      64255   서울특별시 중구\n",
       "4  서울특별시  용산구    229385     110701     118684  서울특별시 용산구"
      ]
     },
     "execution_count": 36,
     "metadata": {},
     "output_type": "execute_result"
    }
   ],
   "source": [
    "# '시도'와 '군구'를 연결하여 '시도군구' 컬럼 추가\n",
    "population['시도군구']= population.apply(lambda r: r['시도'] + ' ' + r['군구'], axis=1)\n",
    "\n",
    "population.head()  #작업 확인용 출력"
   ]
  },
  {
   "cell_type": "markdown",
   "metadata": {},
   "source": [
    "##### -  필요없는  '소계' 행 삭제"
   ]
  },
  {
   "cell_type": "code",
   "execution_count": 37,
   "metadata": {},
   "outputs": [
    {
     "data": {
      "text/html": [
       "<div>\n",
       "<style scoped>\n",
       "    .dataframe tbody tr th:only-of-type {\n",
       "        vertical-align: middle;\n",
       "    }\n",
       "\n",
       "    .dataframe tbody tr th {\n",
       "        vertical-align: top;\n",
       "    }\n",
       "\n",
       "    .dataframe thead th {\n",
       "        text-align: right;\n",
       "    }\n",
       "</style>\n",
       "<table border=\"1\" class=\"dataframe\">\n",
       "  <thead>\n",
       "    <tr style=\"text-align: right;\">\n",
       "      <th></th>\n",
       "      <th>시도</th>\n",
       "      <th>군구</th>\n",
       "      <th>총인구수 (명)</th>\n",
       "      <th>남자인구수 (명)</th>\n",
       "      <th>여자인구수 (명)</th>\n",
       "      <th>시도군구</th>\n",
       "    </tr>\n",
       "  </thead>\n",
       "  <tbody>\n",
       "    <tr>\n",
       "      <th>2</th>\n",
       "      <td>서울특별시</td>\n",
       "      <td>종로구</td>\n",
       "      <td>151215</td>\n",
       "      <td>73688</td>\n",
       "      <td>77527</td>\n",
       "      <td>서울특별시 종로구</td>\n",
       "    </tr>\n",
       "    <tr>\n",
       "      <th>3</th>\n",
       "      <td>서울특별시</td>\n",
       "      <td>중구</td>\n",
       "      <td>126201</td>\n",
       "      <td>61946</td>\n",
       "      <td>64255</td>\n",
       "      <td>서울특별시 중구</td>\n",
       "    </tr>\n",
       "    <tr>\n",
       "      <th>4</th>\n",
       "      <td>서울특별시</td>\n",
       "      <td>용산구</td>\n",
       "      <td>229385</td>\n",
       "      <td>110701</td>\n",
       "      <td>118684</td>\n",
       "      <td>서울특별시 용산구</td>\n",
       "    </tr>\n",
       "    <tr>\n",
       "      <th>5</th>\n",
       "      <td>서울특별시</td>\n",
       "      <td>성동구</td>\n",
       "      <td>300410</td>\n",
       "      <td>147020</td>\n",
       "      <td>153390</td>\n",
       "      <td>서울특별시 성동구</td>\n",
       "    </tr>\n",
       "    <tr>\n",
       "      <th>6</th>\n",
       "      <td>서울특별시</td>\n",
       "      <td>광진구</td>\n",
       "      <td>351263</td>\n",
       "      <td>170164</td>\n",
       "      <td>181099</td>\n",
       "      <td>서울특별시 광진구</td>\n",
       "    </tr>\n",
       "  </tbody>\n",
       "</table>\n",
       "</div>"
      ],
      "text/plain": [
       "      시도   군구  총인구수 (명)  남자인구수 (명)  여자인구수 (명)       시도군구\n",
       "2  서울특별시  종로구    151215      73688      77527  서울특별시 종로구\n",
       "3  서울특별시   중구    126201      61946      64255   서울특별시 중구\n",
       "4  서울특별시  용산구    229385     110701     118684  서울특별시 용산구\n",
       "5  서울특별시  성동구    300410     147020     153390  서울특별시 성동구\n",
       "6  서울특별시  광진구    351263     170164     181099  서울특별시 광진구"
      ]
     },
     "execution_count": 37,
     "metadata": {},
     "output_type": "execute_result"
    }
   ],
   "source": [
    "population = population[population.군구 != '소계']\n",
    "\n",
    "population.head()  #작업 확인용 출력"
   ]
  },
  {
   "cell_type": "markdown",
   "metadata": {},
   "source": [
    "####   (3) 병합의 기준이 될 인덱스를 '시도군구'로 설정"
   ]
  },
  {
   "cell_type": "code",
   "execution_count": 38,
   "metadata": {},
   "outputs": [
    {
     "data": {
      "text/html": [
       "<div>\n",
       "<style scoped>\n",
       "    .dataframe tbody tr th:only-of-type {\n",
       "        vertical-align: middle;\n",
       "    }\n",
       "\n",
       "    .dataframe tbody tr th {\n",
       "        vertical-align: top;\n",
       "    }\n",
       "\n",
       "    .dataframe thead th {\n",
       "        text-align: right;\n",
       "    }\n",
       "</style>\n",
       "<table border=\"1\" class=\"dataframe\">\n",
       "  <thead>\n",
       "    <tr style=\"text-align: right;\">\n",
       "      <th></th>\n",
       "      <th>시도</th>\n",
       "      <th>군구</th>\n",
       "      <th>총인구수 (명)</th>\n",
       "      <th>남자인구수 (명)</th>\n",
       "      <th>여자인구수 (명)</th>\n",
       "    </tr>\n",
       "    <tr>\n",
       "      <th>시도군구</th>\n",
       "      <th></th>\n",
       "      <th></th>\n",
       "      <th></th>\n",
       "      <th></th>\n",
       "      <th></th>\n",
       "    </tr>\n",
       "  </thead>\n",
       "  <tbody>\n",
       "    <tr>\n",
       "      <th>서울특별시 종로구</th>\n",
       "      <td>서울특별시</td>\n",
       "      <td>종로구</td>\n",
       "      <td>151215</td>\n",
       "      <td>73688</td>\n",
       "      <td>77527</td>\n",
       "    </tr>\n",
       "    <tr>\n",
       "      <th>서울특별시 중구</th>\n",
       "      <td>서울특별시</td>\n",
       "      <td>중구</td>\n",
       "      <td>126201</td>\n",
       "      <td>61946</td>\n",
       "      <td>64255</td>\n",
       "    </tr>\n",
       "    <tr>\n",
       "      <th>서울특별시 용산구</th>\n",
       "      <td>서울특별시</td>\n",
       "      <td>용산구</td>\n",
       "      <td>229385</td>\n",
       "      <td>110701</td>\n",
       "      <td>118684</td>\n",
       "    </tr>\n",
       "    <tr>\n",
       "      <th>서울특별시 성동구</th>\n",
       "      <td>서울특별시</td>\n",
       "      <td>성동구</td>\n",
       "      <td>300410</td>\n",
       "      <td>147020</td>\n",
       "      <td>153390</td>\n",
       "    </tr>\n",
       "    <tr>\n",
       "      <th>서울특별시 광진구</th>\n",
       "      <td>서울특별시</td>\n",
       "      <td>광진구</td>\n",
       "      <td>351263</td>\n",
       "      <td>170164</td>\n",
       "      <td>181099</td>\n",
       "    </tr>\n",
       "  </tbody>\n",
       "</table>\n",
       "</div>"
      ],
      "text/plain": [
       "              시도   군구  총인구수 (명)  남자인구수 (명)  여자인구수 (명)\n",
       "시도군구                                                 \n",
       "서울특별시 종로구  서울특별시  종로구    151215      73688      77527\n",
       "서울특별시 중구   서울특별시   중구    126201      61946      64255\n",
       "서울특별시 용산구  서울특별시  용산구    229385     110701     118684\n",
       "서울특별시 성동구  서울특별시  성동구    300410     147020     153390\n",
       "서울특별시 광진구  서울특별시  광진구    351263     170164     181099"
      ]
     },
     "execution_count": 38,
     "metadata": {},
     "output_type": "execute_result"
    }
   ],
   "source": [
    "population = population.set_index(\"시도군구\")\n",
    "\n",
    "population.head()  #작업 확인용 출력"
   ]
  },
  {
   "cell_type": "markdown",
   "metadata": {},
   "source": [
    "## 5) '의료기관' 데이터프레임과 '시도군구별 인구수' 데이터프레임 병합하기 "
   ]
  },
  {
   "cell_type": "code",
   "execution_count": 39,
   "metadata": {
    "scrolled": true
   },
   "outputs": [
    {
     "data": {
      "text/html": [
       "<div>\n",
       "<style scoped>\n",
       "    .dataframe tbody tr th:only-of-type {\n",
       "        vertical-align: middle;\n",
       "    }\n",
       "\n",
       "    .dataframe tbody tr th {\n",
       "        vertical-align: top;\n",
       "    }\n",
       "\n",
       "    .dataframe thead th {\n",
       "        text-align: right;\n",
       "    }\n",
       "</style>\n",
       "<table border=\"1\" class=\"dataframe\">\n",
       "  <thead>\n",
       "    <tr style=\"text-align: right;\">\n",
       "      <th></th>\n",
       "      <th>시도_x</th>\n",
       "      <th>군구_x</th>\n",
       "      <th>count</th>\n",
       "      <th>시도_y</th>\n",
       "      <th>군구_y</th>\n",
       "      <th>총인구수 (명)</th>\n",
       "      <th>남자인구수 (명)</th>\n",
       "      <th>여자인구수 (명)</th>\n",
       "    </tr>\n",
       "    <tr>\n",
       "      <th>시도군구</th>\n",
       "      <th></th>\n",
       "      <th></th>\n",
       "      <th></th>\n",
       "      <th></th>\n",
       "      <th></th>\n",
       "      <th></th>\n",
       "      <th></th>\n",
       "      <th></th>\n",
       "    </tr>\n",
       "  </thead>\n",
       "  <tbody>\n",
       "    <tr>\n",
       "      <th>강원도 강릉시</th>\n",
       "      <td>강원도</td>\n",
       "      <td>강릉시</td>\n",
       "      <td>4</td>\n",
       "      <td>강원도</td>\n",
       "      <td>강릉시</td>\n",
       "      <td>213328</td>\n",
       "      <td>105775</td>\n",
       "      <td>107553</td>\n",
       "    </tr>\n",
       "    <tr>\n",
       "      <th>강원도 동해시</th>\n",
       "      <td>강원도</td>\n",
       "      <td>동해시</td>\n",
       "      <td>1</td>\n",
       "      <td>강원도</td>\n",
       "      <td>동해시</td>\n",
       "      <td>90417</td>\n",
       "      <td>45782</td>\n",
       "      <td>44635</td>\n",
       "    </tr>\n",
       "    <tr>\n",
       "      <th>강원도 삼척시</th>\n",
       "      <td>강원도</td>\n",
       "      <td>삼척시</td>\n",
       "      <td>1</td>\n",
       "      <td>강원도</td>\n",
       "      <td>삼척시</td>\n",
       "      <td>66806</td>\n",
       "      <td>33811</td>\n",
       "      <td>32995</td>\n",
       "    </tr>\n",
       "    <tr>\n",
       "      <th>강원도 속초시</th>\n",
       "      <td>강원도</td>\n",
       "      <td>속초시</td>\n",
       "      <td>1</td>\n",
       "      <td>강원도</td>\n",
       "      <td>속초시</td>\n",
       "      <td>81840</td>\n",
       "      <td>40470</td>\n",
       "      <td>41370</td>\n",
       "    </tr>\n",
       "    <tr>\n",
       "      <th>강원도 양구군</th>\n",
       "      <td>강원도</td>\n",
       "      <td>양구군</td>\n",
       "      <td>1</td>\n",
       "      <td>강원도</td>\n",
       "      <td>양구군</td>\n",
       "      <td>22526</td>\n",
       "      <td>11937</td>\n",
       "      <td>10589</td>\n",
       "    </tr>\n",
       "  </tbody>\n",
       "</table>\n",
       "</div>"
      ],
      "text/plain": [
       "        시도_x 군구_x  count 시도_y 군구_y  총인구수 (명)  남자인구수 (명)  여자인구수 (명)\n",
       "시도군구                                                              \n",
       "강원도 강릉시  강원도  강릉시      4  강원도  강릉시    213328     105775     107553\n",
       "강원도 동해시  강원도  동해시      1  강원도  동해시     90417      45782      44635\n",
       "강원도 삼척시  강원도  삼척시      1  강원도  삼척시     66806      33811      32995\n",
       "강원도 속초시  강원도  속초시      1  강원도  속초시     81840      40470      41370\n",
       "강원도 양구군  강원도  양구군      1  강원도  양구군     22526      11937      10589"
      ]
     },
     "execution_count": 39,
     "metadata": {},
     "output_type": "execute_result"
    }
   ],
   "source": [
    "addr_population_merge = pd.merge(addr_group,population,  how='inner',  left_index=True, right_index=True)\n",
    "\n",
    "addr_population_merge.head()   #작업 확인용 출력"
   ]
  },
  {
   "cell_type": "markdown",
   "metadata": {},
   "source": [
    "##### -필요한 컬럼만 추출하기"
   ]
  },
  {
   "cell_type": "code",
   "execution_count": 40,
   "metadata": {},
   "outputs": [
    {
     "data": {
      "text/html": [
       "<div>\n",
       "<style scoped>\n",
       "    .dataframe tbody tr th:only-of-type {\n",
       "        vertical-align: middle;\n",
       "    }\n",
       "\n",
       "    .dataframe tbody tr th {\n",
       "        vertical-align: top;\n",
       "    }\n",
       "\n",
       "    .dataframe thead th {\n",
       "        text-align: right;\n",
       "    }\n",
       "</style>\n",
       "<table border=\"1\" class=\"dataframe\">\n",
       "  <thead>\n",
       "    <tr style=\"text-align: right;\">\n",
       "      <th></th>\n",
       "      <th>시도_x</th>\n",
       "      <th>군구_x</th>\n",
       "      <th>count</th>\n",
       "      <th>총인구수 (명)</th>\n",
       "    </tr>\n",
       "    <tr>\n",
       "      <th>시도군구</th>\n",
       "      <th></th>\n",
       "      <th></th>\n",
       "      <th></th>\n",
       "      <th></th>\n",
       "    </tr>\n",
       "  </thead>\n",
       "  <tbody>\n",
       "    <tr>\n",
       "      <th>강원도 강릉시</th>\n",
       "      <td>강원도</td>\n",
       "      <td>강릉시</td>\n",
       "      <td>4</td>\n",
       "      <td>213328</td>\n",
       "    </tr>\n",
       "    <tr>\n",
       "      <th>강원도 동해시</th>\n",
       "      <td>강원도</td>\n",
       "      <td>동해시</td>\n",
       "      <td>1</td>\n",
       "      <td>90417</td>\n",
       "    </tr>\n",
       "    <tr>\n",
       "      <th>강원도 삼척시</th>\n",
       "      <td>강원도</td>\n",
       "      <td>삼척시</td>\n",
       "      <td>1</td>\n",
       "      <td>66806</td>\n",
       "    </tr>\n",
       "    <tr>\n",
       "      <th>강원도 속초시</th>\n",
       "      <td>강원도</td>\n",
       "      <td>속초시</td>\n",
       "      <td>1</td>\n",
       "      <td>81840</td>\n",
       "    </tr>\n",
       "    <tr>\n",
       "      <th>강원도 양구군</th>\n",
       "      <td>강원도</td>\n",
       "      <td>양구군</td>\n",
       "      <td>1</td>\n",
       "      <td>22526</td>\n",
       "    </tr>\n",
       "  </tbody>\n",
       "</table>\n",
       "</div>"
      ],
      "text/plain": [
       "        시도_x 군구_x  count  총인구수 (명)\n",
       "시도군구                              \n",
       "강원도 강릉시  강원도  강릉시      4    213328\n",
       "강원도 동해시  강원도  동해시      1     90417\n",
       "강원도 삼척시  강원도  삼척시      1     66806\n",
       "강원도 속초시  강원도  속초시      1     81840\n",
       "강원도 양구군  강원도  양구군      1     22526"
      ]
     },
     "execution_count": 40,
     "metadata": {},
     "output_type": "execute_result"
    }
   ],
   "source": [
    "local_MC_Population = addr_population_merge[['시도_x', '군구_x',  'count', '총인구수 (명)']]\n",
    "\n",
    "local_MC_Population.head()   #작업 확인용 출력  "
   ]
  },
  {
   "cell_type": "code",
   "execution_count": 41,
   "metadata": {},
   "outputs": [
    {
     "data": {
      "text/html": [
       "<div>\n",
       "<style scoped>\n",
       "    .dataframe tbody tr th:only-of-type {\n",
       "        vertical-align: middle;\n",
       "    }\n",
       "\n",
       "    .dataframe tbody tr th {\n",
       "        vertical-align: top;\n",
       "    }\n",
       "\n",
       "    .dataframe thead th {\n",
       "        text-align: right;\n",
       "    }\n",
       "</style>\n",
       "<table border=\"1\" class=\"dataframe\">\n",
       "  <thead>\n",
       "    <tr style=\"text-align: right;\">\n",
       "      <th></th>\n",
       "      <th>시도</th>\n",
       "      <th>군구</th>\n",
       "      <th>count</th>\n",
       "      <th>인구수</th>\n",
       "    </tr>\n",
       "    <tr>\n",
       "      <th>시도군구</th>\n",
       "      <th></th>\n",
       "      <th></th>\n",
       "      <th></th>\n",
       "      <th></th>\n",
       "    </tr>\n",
       "  </thead>\n",
       "  <tbody>\n",
       "    <tr>\n",
       "      <th>강원도 강릉시</th>\n",
       "      <td>강원도</td>\n",
       "      <td>강릉시</td>\n",
       "      <td>4</td>\n",
       "      <td>213328</td>\n",
       "    </tr>\n",
       "    <tr>\n",
       "      <th>강원도 동해시</th>\n",
       "      <td>강원도</td>\n",
       "      <td>동해시</td>\n",
       "      <td>1</td>\n",
       "      <td>90417</td>\n",
       "    </tr>\n",
       "    <tr>\n",
       "      <th>강원도 삼척시</th>\n",
       "      <td>강원도</td>\n",
       "      <td>삼척시</td>\n",
       "      <td>1</td>\n",
       "      <td>66806</td>\n",
       "    </tr>\n",
       "    <tr>\n",
       "      <th>강원도 속초시</th>\n",
       "      <td>강원도</td>\n",
       "      <td>속초시</td>\n",
       "      <td>1</td>\n",
       "      <td>81840</td>\n",
       "    </tr>\n",
       "    <tr>\n",
       "      <th>강원도 양구군</th>\n",
       "      <td>강원도</td>\n",
       "      <td>양구군</td>\n",
       "      <td>1</td>\n",
       "      <td>22526</td>\n",
       "    </tr>\n",
       "  </tbody>\n",
       "</table>\n",
       "</div>"
      ],
      "text/plain": [
       "          시도   군구  count     인구수\n",
       "시도군구                            \n",
       "강원도 강릉시  강원도  강릉시      4  213328\n",
       "강원도 동해시  강원도  동해시      1   90417\n",
       "강원도 삼척시  강원도  삼척시      1   66806\n",
       "강원도 속초시  강원도  속초시      1   81840\n",
       "강원도 양구군  강원도  양구군      1   22526"
      ]
     },
     "execution_count": 41,
     "metadata": {},
     "output_type": "execute_result"
    }
   ],
   "source": [
    " #컬럼이름 변경\n",
    "local_MC_Population = local_MC_Population.rename(columns = {'시도_x': '시도', '군구_x': '군구','총인구수 (명)': '인구수' })\n",
    "\n",
    "local_MC_Population.head()  #작업 확인용 출력"
   ]
  },
  {
   "cell_type": "markdown",
   "metadata": {},
   "source": [
    "## 6) 시도군구의 인구대비 의료기관수 비율 구하기"
   ]
  },
  {
   "cell_type": "code",
   "execution_count": null,
   "metadata": {},
   "outputs": [],
   "source": [
    "MC_count = local_MC_Population['count']\n",
    "local_MC_Population['MC_ratio'] = MC_count.div(local_MC_Population['인구수'], axis=0)*100000\n",
    "\n",
    "local_MC_Population.head()   #작업 확인용 출력"
   ]
  },
  {
   "cell_type": "markdown",
   "metadata": {},
   "source": [
    "# 2. 분석 모델 구축 및 시각화"
   ]
  },
  {
   "cell_type": "markdown",
   "metadata": {},
   "source": [
    "##  1) 바 차트 그리기"
   ]
  },
  {
   "cell_type": "code",
   "execution_count": 42,
   "metadata": {},
   "outputs": [],
   "source": [
    "from matplotlib import pyplot as plt\n",
    "from matplotlib import rcParams, style\n",
    "style.use('ggplot')\n",
    "\n",
    "from matplotlib import font_manager, rc\n",
    "font_name = font_manager.FontProperties(fname=\"c:/Windows/Fonts/malgun.ttf\").get_name()\n",
    "rc('font', family=font_name)"
   ]
  },
  {
   "cell_type": "code",
   "execution_count": null,
   "metadata": {},
   "outputs": [],
   "source": [
    "plt.style.available # matplotlib style_sheets"
   ]
  },
  {
   "cell_type": "markdown",
   "metadata": {},
   "source": [
    "####   (1) 행정구역별 공공보건의료기관수에 대한 바 차트 "
   ]
  },
  {
   "cell_type": "code",
   "execution_count": 43,
   "metadata": {},
   "outputs": [
    {
     "data": {
      "image/png": "[encoded data removed]",
      "text/plain": [
       "<Figure size 2500x500 with 1 Axes>"
      ]
     },
     "metadata": {},
     "output_type": "display_data"
    }
   ],
   "source": [
    "MC_ratio = local_MC_Population[['count']]\n",
    "MC_ratio = MC_ratio.sort_values('count', ascending = False)\n",
    "plt.rcParams[\"figure.figsize\"] = (25,5)\n",
    "MC_ratio.plot(kind='bar', rot=90)\n",
    "plt.show()"
   ]
  },
  {
   "cell_type": "markdown",
   "metadata": {},
   "source": [
    "####   (2) 행정구역별 인구수 대비 공공보건의료기관 비율에 대한 바 차트 "
   ]
  },
  {
   "cell_type": "code",
   "execution_count": 44,
   "metadata": {
    "scrolled": true
   },
   "outputs": [
    {
     "ename": "KeyError",
     "evalue": "\"None of [Index(['MC_ratio'], dtype='object')] are in the [columns]\"",
     "output_type": "error",
     "traceback": [
      "\u001b[1;31m---------------------------------------------------------------------------\u001b[0m",
      "\u001b[1;31mKeyError\u001b[0m                                  Traceback (most recent call last)",
      "Cell \u001b[1;32mIn[44], line 1\u001b[0m\n\u001b[1;32m----> 1\u001b[0m MC_ratio \u001b[38;5;241m=\u001b[39m \u001b[43mlocal_MC_Population\u001b[49m\u001b[43m[\u001b[49m\u001b[43m[\u001b[49m\u001b[38;5;124;43m'\u001b[39;49m\u001b[38;5;124;43mMC_ratio\u001b[39;49m\u001b[38;5;124;43m'\u001b[39;49m\u001b[43m]\u001b[49m\u001b[43m]\u001b[49m\n\u001b[0;32m      2\u001b[0m MC_ratio \u001b[38;5;241m=\u001b[39m MC_ratio\u001b[38;5;241m.\u001b[39msort_values(\u001b[38;5;124m'\u001b[39m\u001b[38;5;124mMC_ratio\u001b[39m\u001b[38;5;124m'\u001b[39m, ascending \u001b[38;5;241m=\u001b[39m \u001b[38;5;28;01mFalse\u001b[39;00m)\n\u001b[0;32m      3\u001b[0m plt\u001b[38;5;241m.\u001b[39mrcParams[\u001b[38;5;124m\"\u001b[39m\u001b[38;5;124mfigure.figsize\u001b[39m\u001b[38;5;124m\"\u001b[39m] \u001b[38;5;241m=\u001b[39m (\u001b[38;5;241m25\u001b[39m,\u001b[38;5;241m5\u001b[39m)\n",
      "File \u001b[1;32mc:\\Users\\park\\AppData\\Local\\Programs\\Python\\Python310\\lib\\site-packages\\pandas\\core\\frame.py:4096\u001b[0m, in \u001b[0;36mDataFrame.__getitem__\u001b[1;34m(self, key)\u001b[0m\n\u001b[0;32m   4094\u001b[0m     \u001b[38;5;28;01mif\u001b[39;00m is_iterator(key):\n\u001b[0;32m   4095\u001b[0m         key \u001b[38;5;241m=\u001b[39m \u001b[38;5;28mlist\u001b[39m(key)\n\u001b[1;32m-> 4096\u001b[0m     indexer \u001b[38;5;241m=\u001b[39m \u001b[38;5;28;43mself\u001b[39;49m\u001b[38;5;241;43m.\u001b[39;49m\u001b[43mcolumns\u001b[49m\u001b[38;5;241;43m.\u001b[39;49m\u001b[43m_get_indexer_strict\u001b[49m\u001b[43m(\u001b[49m\u001b[43mkey\u001b[49m\u001b[43m,\u001b[49m\u001b[43m \u001b[49m\u001b[38;5;124;43m\"\u001b[39;49m\u001b[38;5;124;43mcolumns\u001b[39;49m\u001b[38;5;124;43m\"\u001b[39;49m\u001b[43m)\u001b[49m[\u001b[38;5;241m1\u001b[39m]\n\u001b[0;32m   4098\u001b[0m \u001b[38;5;66;03m# take() does not accept boolean indexers\u001b[39;00m\n\u001b[0;32m   4099\u001b[0m \u001b[38;5;28;01mif\u001b[39;00m \u001b[38;5;28mgetattr\u001b[39m(indexer, \u001b[38;5;124m\"\u001b[39m\u001b[38;5;124mdtype\u001b[39m\u001b[38;5;124m\"\u001b[39m, \u001b[38;5;28;01mNone\u001b[39;00m) \u001b[38;5;241m==\u001b[39m \u001b[38;5;28mbool\u001b[39m:\n",
      "File \u001b[1;32mc:\\Users\\park\\AppData\\Local\\Programs\\Python\\Python310\\lib\\site-packages\\pandas\\core\\indexes\\base.py:6200\u001b[0m, in \u001b[0;36mIndex._get_indexer_strict\u001b[1;34m(self, key, axis_name)\u001b[0m\n\u001b[0;32m   6197\u001b[0m \u001b[38;5;28;01melse\u001b[39;00m:\n\u001b[0;32m   6198\u001b[0m     keyarr, indexer, new_indexer \u001b[38;5;241m=\u001b[39m \u001b[38;5;28mself\u001b[39m\u001b[38;5;241m.\u001b[39m_reindex_non_unique(keyarr)\n\u001b[1;32m-> 6200\u001b[0m \u001b[38;5;28;43mself\u001b[39;49m\u001b[38;5;241;43m.\u001b[39;49m\u001b[43m_raise_if_missing\u001b[49m\u001b[43m(\u001b[49m\u001b[43mkeyarr\u001b[49m\u001b[43m,\u001b[49m\u001b[43m \u001b[49m\u001b[43mindexer\u001b[49m\u001b[43m,\u001b[49m\u001b[43m \u001b[49m\u001b[43maxis_name\u001b[49m\u001b[43m)\u001b[49m\n\u001b[0;32m   6202\u001b[0m keyarr \u001b[38;5;241m=\u001b[39m \u001b[38;5;28mself\u001b[39m\u001b[38;5;241m.\u001b[39mtake(indexer)\n\u001b[0;32m   6203\u001b[0m \u001b[38;5;28;01mif\u001b[39;00m \u001b[38;5;28misinstance\u001b[39m(key, Index):\n\u001b[0;32m   6204\u001b[0m     \u001b[38;5;66;03m# GH 42790 - Preserve name from an Index\u001b[39;00m\n",
      "File \u001b[1;32mc:\\Users\\park\\AppData\\Local\\Programs\\Python\\Python310\\lib\\site-packages\\pandas\\core\\indexes\\base.py:6249\u001b[0m, in \u001b[0;36mIndex._raise_if_missing\u001b[1;34m(self, key, indexer, axis_name)\u001b[0m\n\u001b[0;32m   6247\u001b[0m \u001b[38;5;28;01mif\u001b[39;00m nmissing:\n\u001b[0;32m   6248\u001b[0m     \u001b[38;5;28;01mif\u001b[39;00m nmissing \u001b[38;5;241m==\u001b[39m \u001b[38;5;28mlen\u001b[39m(indexer):\n\u001b[1;32m-> 6249\u001b[0m         \u001b[38;5;28;01mraise\u001b[39;00m \u001b[38;5;167;01mKeyError\u001b[39;00m(\u001b[38;5;124mf\u001b[39m\u001b[38;5;124m\"\u001b[39m\u001b[38;5;124mNone of [\u001b[39m\u001b[38;5;132;01m{\u001b[39;00mkey\u001b[38;5;132;01m}\u001b[39;00m\u001b[38;5;124m] are in the [\u001b[39m\u001b[38;5;132;01m{\u001b[39;00maxis_name\u001b[38;5;132;01m}\u001b[39;00m\u001b[38;5;124m]\u001b[39m\u001b[38;5;124m\"\u001b[39m)\n\u001b[0;32m   6251\u001b[0m     not_found \u001b[38;5;241m=\u001b[39m \u001b[38;5;28mlist\u001b[39m(ensure_index(key)[missing_mask\u001b[38;5;241m.\u001b[39mnonzero()[\u001b[38;5;241m0\u001b[39m]]\u001b[38;5;241m.\u001b[39munique())\n\u001b[0;32m   6252\u001b[0m     \u001b[38;5;28;01mraise\u001b[39;00m \u001b[38;5;167;01mKeyError\u001b[39;00m(\u001b[38;5;124mf\u001b[39m\u001b[38;5;124m\"\u001b[39m\u001b[38;5;132;01m{\u001b[39;00mnot_found\u001b[38;5;132;01m}\u001b[39;00m\u001b[38;5;124m not in index\u001b[39m\u001b[38;5;124m\"\u001b[39m)\n",
      "\u001b[1;31mKeyError\u001b[0m: \"None of [Index(['MC_ratio'], dtype='object')] are in the [columns]\""
     ]
    }
   ],
   "source": [
    "MC_ratio = local_MC_Population[['MC_ratio']]\n",
    "MC_ratio = MC_ratio.sort_values('MC_ratio', ascending = False)\n",
    "plt.rcParams[\"figure.figsize\"] = (25,5)\n",
    "MC_ratio.plot(kind='bar', rot=90)\n",
    "plt.show()"
   ]
  },
  {
   "cell_type": "markdown",
   "metadata": {},
   "source": [
    "## 2) 블록맵 시각화"
   ]
  },
  {
   "cell_type": "markdown",
   "metadata": {},
   "source": [
    "###   (1) 블록맵 데이터 파일 열기"
   ]
  },
  {
   "cell_type": "code",
   "execution_count": 45,
   "metadata": {},
   "outputs": [],
   "source": [
    "import os\n",
    "path = os.getcwd()"
   ]
  },
  {
   "cell_type": "code",
   "execution_count": 46,
   "metadata": {},
   "outputs": [
    {
     "name": "stdout",
     "output_type": "stream",
     "text": [
      "c:\\Users\\park\\Documents\\GitHub\\pyth\n"
     ]
    }
   ],
   "source": [
    "print(path)"
   ]
  },
  {
   "cell_type": "code",
   "execution_count": 47,
   "metadata": {},
   "outputs": [
    {
     "data": {
      "text/html": [
       "<div>\n",
       "<style scoped>\n",
       "    .dataframe tbody tr th:only-of-type {\n",
       "        vertical-align: middle;\n",
       "    }\n",
       "\n",
       "    .dataframe tbody tr th {\n",
       "        vertical-align: top;\n",
       "    }\n",
       "\n",
       "    .dataframe thead th {\n",
       "        text-align: right;\n",
       "    }\n",
       "</style>\n",
       "<table border=\"1\" class=\"dataframe\">\n",
       "  <thead>\n",
       "    <tr style=\"text-align: right;\">\n",
       "      <th></th>\n",
       "      <th>shortName</th>\n",
       "      <th>x</th>\n",
       "      <th>y</th>\n",
       "      <th>면적</th>\n",
       "      <th>광역시도</th>\n",
       "      <th>행정구역</th>\n",
       "    </tr>\n",
       "    <tr>\n",
       "      <th>인구수</th>\n",
       "      <th></th>\n",
       "      <th></th>\n",
       "      <th></th>\n",
       "      <th></th>\n",
       "      <th></th>\n",
       "      <th></th>\n",
       "    </tr>\n",
       "  </thead>\n",
       "  <tbody>\n",
       "    <tr>\n",
       "      <th>202520</th>\n",
       "      <td>강릉</td>\n",
       "      <td>11</td>\n",
       "      <td>4</td>\n",
       "      <td>1040.07</td>\n",
       "      <td>강원도</td>\n",
       "      <td>강릉시</td>\n",
       "    </tr>\n",
       "    <tr>\n",
       "      <th>25589</th>\n",
       "      <td>고성(강원)</td>\n",
       "      <td>9</td>\n",
       "      <td>0</td>\n",
       "      <td>664.19</td>\n",
       "      <td>강원도</td>\n",
       "      <td>고성군</td>\n",
       "    </tr>\n",
       "    <tr>\n",
       "      <th>86747</th>\n",
       "      <td>동해</td>\n",
       "      <td>11</td>\n",
       "      <td>5</td>\n",
       "      <td>180.01</td>\n",
       "      <td>강원도</td>\n",
       "      <td>동해시</td>\n",
       "    </tr>\n",
       "    <tr>\n",
       "      <th>63986</th>\n",
       "      <td>삼척</td>\n",
       "      <td>11</td>\n",
       "      <td>8</td>\n",
       "      <td>1185.80</td>\n",
       "      <td>강원도</td>\n",
       "      <td>삼척시</td>\n",
       "    </tr>\n",
       "    <tr>\n",
       "      <th>76733</th>\n",
       "      <td>속초</td>\n",
       "      <td>9</td>\n",
       "      <td>1</td>\n",
       "      <td>105.25</td>\n",
       "      <td>강원도</td>\n",
       "      <td>속초시</td>\n",
       "    </tr>\n",
       "  </tbody>\n",
       "</table>\n",
       "</div>"
      ],
      "text/plain": [
       "       shortName   x  y       면적 광역시도 행정구역\n",
       "인구수                                       \n",
       "202520        강릉  11  4  1040.07  강원도  강릉시\n",
       "25589     고성(강원)   9  0   664.19  강원도  고성군\n",
       "86747         동해  11  5   180.01  강원도  동해시\n",
       "63986         삼척  11  8  1185.80  강원도  삼척시\n",
       "76733         속초   9  1   105.25  강원도  속초시"
      ]
     },
     "execution_count": 47,
     "metadata": {},
     "output_type": "execute_result"
    }
   ],
   "source": [
    "# data_draw_korea = pd.read_csv(path+'\\\\data_draw_korea.csv', index_col=0, encoding='UTF-8', engine='python')\n",
    "# data_draw_korea.to_csv('./data_draw_korea2.csv',encoding='CP949', index = False)\n",
    "data_draw_korea = pd.read_csv(path+'\\\\data_draw_korea2.csv', index_col=0, encoding='CP949', engine='python')\n",
    "data_draw_korea.head()   #작업 확인용 출력"
   ]
  },
  {
   "cell_type": "code",
   "execution_count": 48,
   "metadata": {},
   "outputs": [
    {
     "data": {
      "text/html": [
       "<div>\n",
       "<style scoped>\n",
       "    .dataframe tbody tr th:only-of-type {\n",
       "        vertical-align: middle;\n",
       "    }\n",
       "\n",
       "    .dataframe tbody tr th {\n",
       "        vertical-align: top;\n",
       "    }\n",
       "\n",
       "    .dataframe thead th {\n",
       "        text-align: right;\n",
       "    }\n",
       "</style>\n",
       "<table border=\"1\" class=\"dataframe\">\n",
       "  <thead>\n",
       "    <tr style=\"text-align: right;\">\n",
       "      <th></th>\n",
       "      <th>shortName</th>\n",
       "      <th>x</th>\n",
       "      <th>y</th>\n",
       "      <th>면적</th>\n",
       "      <th>광역시도</th>\n",
       "      <th>행정구역</th>\n",
       "    </tr>\n",
       "    <tr>\n",
       "      <th>인구수</th>\n",
       "      <th></th>\n",
       "      <th></th>\n",
       "      <th></th>\n",
       "      <th></th>\n",
       "      <th></th>\n",
       "      <th></th>\n",
       "    </tr>\n",
       "  </thead>\n",
       "  <tbody>\n",
       "    <tr>\n",
       "      <th>202520</th>\n",
       "      <td>강릉</td>\n",
       "      <td>11</td>\n",
       "      <td>4</td>\n",
       "      <td>1040.07</td>\n",
       "      <td>강원도</td>\n",
       "      <td>강릉시</td>\n",
       "    </tr>\n",
       "    <tr>\n",
       "      <th>25589</th>\n",
       "      <td>고성(강원)</td>\n",
       "      <td>9</td>\n",
       "      <td>0</td>\n",
       "      <td>664.19</td>\n",
       "      <td>강원도</td>\n",
       "      <td>고성군</td>\n",
       "    </tr>\n",
       "    <tr>\n",
       "      <th>86747</th>\n",
       "      <td>동해</td>\n",
       "      <td>11</td>\n",
       "      <td>5</td>\n",
       "      <td>180.01</td>\n",
       "      <td>강원도</td>\n",
       "      <td>동해시</td>\n",
       "    </tr>\n",
       "    <tr>\n",
       "      <th>63986</th>\n",
       "      <td>삼척</td>\n",
       "      <td>11</td>\n",
       "      <td>8</td>\n",
       "      <td>1185.80</td>\n",
       "      <td>강원도</td>\n",
       "      <td>삼척시</td>\n",
       "    </tr>\n",
       "    <tr>\n",
       "      <th>76733</th>\n",
       "      <td>속초</td>\n",
       "      <td>9</td>\n",
       "      <td>1</td>\n",
       "      <td>105.25</td>\n",
       "      <td>강원도</td>\n",
       "      <td>속초시</td>\n",
       "    </tr>\n",
       "  </tbody>\n",
       "</table>\n",
       "</div>"
      ],
      "text/plain": [
       "       shortName   x  y       면적 광역시도 행정구역\n",
       "인구수                                       \n",
       "202520        강릉  11  4  1040.07  강원도  강릉시\n",
       "25589     고성(강원)   9  0   664.19  강원도  고성군\n",
       "86747         동해  11  5   180.01  강원도  동해시\n",
       "63986         삼척  11  8  1185.80  강원도  삼척시\n",
       "76733         속초   9  1   105.25  강원도  속초시"
      ]
     },
     "execution_count": 48,
     "metadata": {},
     "output_type": "execute_result"
    }
   ],
   "source": [
    "\n",
    "data_draw_korea.head()   #작업 확인용 출력"
   ]
  },
  {
   "cell_type": "markdown",
   "metadata": {},
   "source": [
    "###   (2) 블록맵 데이터 파일에 '시도군구' 컬럼 만들기"
   ]
  },
  {
   "cell_type": "code",
   "execution_count": 49,
   "metadata": {},
   "outputs": [
    {
     "data": {
      "text/html": [
       "<div>\n",
       "<style scoped>\n",
       "    .dataframe tbody tr th:only-of-type {\n",
       "        vertical-align: middle;\n",
       "    }\n",
       "\n",
       "    .dataframe tbody tr th {\n",
       "        vertical-align: top;\n",
       "    }\n",
       "\n",
       "    .dataframe thead th {\n",
       "        text-align: right;\n",
       "    }\n",
       "</style>\n",
       "<table border=\"1\" class=\"dataframe\">\n",
       "  <thead>\n",
       "    <tr style=\"text-align: right;\">\n",
       "      <th></th>\n",
       "      <th>shortName</th>\n",
       "      <th>x</th>\n",
       "      <th>y</th>\n",
       "      <th>면적</th>\n",
       "      <th>광역시도</th>\n",
       "      <th>행정구역</th>\n",
       "      <th>시도군구</th>\n",
       "    </tr>\n",
       "    <tr>\n",
       "      <th>인구수</th>\n",
       "      <th></th>\n",
       "      <th></th>\n",
       "      <th></th>\n",
       "      <th></th>\n",
       "      <th></th>\n",
       "      <th></th>\n",
       "      <th></th>\n",
       "    </tr>\n",
       "  </thead>\n",
       "  <tbody>\n",
       "    <tr>\n",
       "      <th>202520</th>\n",
       "      <td>강릉</td>\n",
       "      <td>11</td>\n",
       "      <td>4</td>\n",
       "      <td>1040.07</td>\n",
       "      <td>강원도</td>\n",
       "      <td>강릉시</td>\n",
       "      <td>강원도 강릉시</td>\n",
       "    </tr>\n",
       "    <tr>\n",
       "      <th>25589</th>\n",
       "      <td>고성(강원)</td>\n",
       "      <td>9</td>\n",
       "      <td>0</td>\n",
       "      <td>664.19</td>\n",
       "      <td>강원도</td>\n",
       "      <td>고성군</td>\n",
       "      <td>강원도 고성군</td>\n",
       "    </tr>\n",
       "    <tr>\n",
       "      <th>86747</th>\n",
       "      <td>동해</td>\n",
       "      <td>11</td>\n",
       "      <td>5</td>\n",
       "      <td>180.01</td>\n",
       "      <td>강원도</td>\n",
       "      <td>동해시</td>\n",
       "      <td>강원도 동해시</td>\n",
       "    </tr>\n",
       "    <tr>\n",
       "      <th>63986</th>\n",
       "      <td>삼척</td>\n",
       "      <td>11</td>\n",
       "      <td>8</td>\n",
       "      <td>1185.80</td>\n",
       "      <td>강원도</td>\n",
       "      <td>삼척시</td>\n",
       "      <td>강원도 삼척시</td>\n",
       "    </tr>\n",
       "    <tr>\n",
       "      <th>76733</th>\n",
       "      <td>속초</td>\n",
       "      <td>9</td>\n",
       "      <td>1</td>\n",
       "      <td>105.25</td>\n",
       "      <td>강원도</td>\n",
       "      <td>속초시</td>\n",
       "      <td>강원도 속초시</td>\n",
       "    </tr>\n",
       "  </tbody>\n",
       "</table>\n",
       "</div>"
      ],
      "text/plain": [
       "       shortName   x  y       면적 광역시도 행정구역     시도군구\n",
       "인구수                                                \n",
       "202520        강릉  11  4  1040.07  강원도  강릉시  강원도 강릉시\n",
       "25589     고성(강원)   9  0   664.19  강원도  고성군  강원도 고성군\n",
       "86747         동해  11  5   180.01  강원도  동해시  강원도 동해시\n",
       "63986         삼척  11  8  1185.80  강원도  삼척시  강원도 삼척시\n",
       "76733         속초   9  1   105.25  강원도  속초시  강원도 속초시"
      ]
     },
     "execution_count": 49,
     "metadata": {},
     "output_type": "execute_result"
    }
   ],
   "source": [
    "data_draw_korea['시도군구']= data_draw_korea.apply(lambda r: r['광역시도'] + ' ' + r['행정구역'], axis=1)\n",
    "\n",
    "data_draw_korea.head()  #작업 확인용 출력"
   ]
  },
  {
   "cell_type": "markdown",
   "metadata": {},
   "source": [
    "###   (3) 블록맵 데이터에서 병합에 사용할 '시도군구' 컬럼을 인덱스로 설정하기"
   ]
  },
  {
   "cell_type": "code",
   "execution_count": 50,
   "metadata": {},
   "outputs": [
    {
     "data": {
      "text/html": [
       "<div>\n",
       "<style scoped>\n",
       "    .dataframe tbody tr th:only-of-type {\n",
       "        vertical-align: middle;\n",
       "    }\n",
       "\n",
       "    .dataframe tbody tr th {\n",
       "        vertical-align: top;\n",
       "    }\n",
       "\n",
       "    .dataframe thead th {\n",
       "        text-align: right;\n",
       "    }\n",
       "</style>\n",
       "<table border=\"1\" class=\"dataframe\">\n",
       "  <thead>\n",
       "    <tr style=\"text-align: right;\">\n",
       "      <th></th>\n",
       "      <th>shortName</th>\n",
       "      <th>x</th>\n",
       "      <th>y</th>\n",
       "      <th>면적</th>\n",
       "      <th>광역시도</th>\n",
       "      <th>행정구역</th>\n",
       "    </tr>\n",
       "    <tr>\n",
       "      <th>시도군구</th>\n",
       "      <th></th>\n",
       "      <th></th>\n",
       "      <th></th>\n",
       "      <th></th>\n",
       "      <th></th>\n",
       "      <th></th>\n",
       "    </tr>\n",
       "  </thead>\n",
       "  <tbody>\n",
       "    <tr>\n",
       "      <th>강원도 강릉시</th>\n",
       "      <td>강릉</td>\n",
       "      <td>11</td>\n",
       "      <td>4</td>\n",
       "      <td>1040.07</td>\n",
       "      <td>강원도</td>\n",
       "      <td>강릉시</td>\n",
       "    </tr>\n",
       "    <tr>\n",
       "      <th>강원도 고성군</th>\n",
       "      <td>고성(강원)</td>\n",
       "      <td>9</td>\n",
       "      <td>0</td>\n",
       "      <td>664.19</td>\n",
       "      <td>강원도</td>\n",
       "      <td>고성군</td>\n",
       "    </tr>\n",
       "    <tr>\n",
       "      <th>강원도 동해시</th>\n",
       "      <td>동해</td>\n",
       "      <td>11</td>\n",
       "      <td>5</td>\n",
       "      <td>180.01</td>\n",
       "      <td>강원도</td>\n",
       "      <td>동해시</td>\n",
       "    </tr>\n",
       "    <tr>\n",
       "      <th>강원도 삼척시</th>\n",
       "      <td>삼척</td>\n",
       "      <td>11</td>\n",
       "      <td>8</td>\n",
       "      <td>1185.80</td>\n",
       "      <td>강원도</td>\n",
       "      <td>삼척시</td>\n",
       "    </tr>\n",
       "    <tr>\n",
       "      <th>강원도 속초시</th>\n",
       "      <td>속초</td>\n",
       "      <td>9</td>\n",
       "      <td>1</td>\n",
       "      <td>105.25</td>\n",
       "      <td>강원도</td>\n",
       "      <td>속초시</td>\n",
       "    </tr>\n",
       "  </tbody>\n",
       "</table>\n",
       "</div>"
      ],
      "text/plain": [
       "        shortName   x  y       면적 광역시도 행정구역\n",
       "시도군구                                       \n",
       "강원도 강릉시        강릉  11  4  1040.07  강원도  강릉시\n",
       "강원도 고성군    고성(강원)   9  0   664.19  강원도  고성군\n",
       "강원도 동해시        동해  11  5   180.01  강원도  동해시\n",
       "강원도 삼척시        삼척  11  8  1185.80  강원도  삼척시\n",
       "강원도 속초시        속초   9  1   105.25  강원도  속초시"
      ]
     },
     "execution_count": 50,
     "metadata": {},
     "output_type": "execute_result"
    }
   ],
   "source": [
    "data_draw_korea = data_draw_korea.set_index(\"시도군구\")\n",
    "\n",
    "data_draw_korea.head()  #작업 확인용 출력"
   ]
  },
  {
   "cell_type": "markdown",
   "metadata": {},
   "source": [
    "###   (4) 블록맵 데이터프레임과 local_MC_Population을 병합하기"
   ]
  },
  {
   "cell_type": "code",
   "execution_count": 51,
   "metadata": {},
   "outputs": [
    {
     "data": {
      "text/html": [
       "<div>\n",
       "<style scoped>\n",
       "    .dataframe tbody tr th:only-of-type {\n",
       "        vertical-align: middle;\n",
       "    }\n",
       "\n",
       "    .dataframe tbody tr th {\n",
       "        vertical-align: top;\n",
       "    }\n",
       "\n",
       "    .dataframe thead th {\n",
       "        text-align: right;\n",
       "    }\n",
       "</style>\n",
       "<table border=\"1\" class=\"dataframe\">\n",
       "  <thead>\n",
       "    <tr style=\"text-align: right;\">\n",
       "      <th></th>\n",
       "      <th>shortName</th>\n",
       "      <th>x</th>\n",
       "      <th>y</th>\n",
       "      <th>면적</th>\n",
       "      <th>광역시도</th>\n",
       "      <th>행정구역</th>\n",
       "      <th>시도</th>\n",
       "      <th>군구</th>\n",
       "      <th>count</th>\n",
       "      <th>인구수</th>\n",
       "    </tr>\n",
       "    <tr>\n",
       "      <th>시도군구</th>\n",
       "      <th></th>\n",
       "      <th></th>\n",
       "      <th></th>\n",
       "      <th></th>\n",
       "      <th></th>\n",
       "      <th></th>\n",
       "      <th></th>\n",
       "      <th></th>\n",
       "      <th></th>\n",
       "      <th></th>\n",
       "    </tr>\n",
       "  </thead>\n",
       "  <tbody>\n",
       "    <tr>\n",
       "      <th>강원도 강릉시</th>\n",
       "      <td>강릉</td>\n",
       "      <td>11</td>\n",
       "      <td>4</td>\n",
       "      <td>1040.07</td>\n",
       "      <td>강원도</td>\n",
       "      <td>강릉시</td>\n",
       "      <td>강원도</td>\n",
       "      <td>강릉시</td>\n",
       "      <td>4.0</td>\n",
       "      <td>213328.0</td>\n",
       "    </tr>\n",
       "    <tr>\n",
       "      <th>강원도 고성군</th>\n",
       "      <td>고성(강원)</td>\n",
       "      <td>9</td>\n",
       "      <td>0</td>\n",
       "      <td>664.19</td>\n",
       "      <td>강원도</td>\n",
       "      <td>고성군</td>\n",
       "      <td>NaN</td>\n",
       "      <td>NaN</td>\n",
       "      <td>NaN</td>\n",
       "      <td>NaN</td>\n",
       "    </tr>\n",
       "    <tr>\n",
       "      <th>강원도 동해시</th>\n",
       "      <td>동해</td>\n",
       "      <td>11</td>\n",
       "      <td>5</td>\n",
       "      <td>180.01</td>\n",
       "      <td>강원도</td>\n",
       "      <td>동해시</td>\n",
       "      <td>강원도</td>\n",
       "      <td>동해시</td>\n",
       "      <td>1.0</td>\n",
       "      <td>90417.0</td>\n",
       "    </tr>\n",
       "    <tr>\n",
       "      <th>강원도 삼척시</th>\n",
       "      <td>삼척</td>\n",
       "      <td>11</td>\n",
       "      <td>8</td>\n",
       "      <td>1185.80</td>\n",
       "      <td>강원도</td>\n",
       "      <td>삼척시</td>\n",
       "      <td>강원도</td>\n",
       "      <td>삼척시</td>\n",
       "      <td>1.0</td>\n",
       "      <td>66806.0</td>\n",
       "    </tr>\n",
       "    <tr>\n",
       "      <th>강원도 속초시</th>\n",
       "      <td>속초</td>\n",
       "      <td>9</td>\n",
       "      <td>1</td>\n",
       "      <td>105.25</td>\n",
       "      <td>강원도</td>\n",
       "      <td>속초시</td>\n",
       "      <td>강원도</td>\n",
       "      <td>속초시</td>\n",
       "      <td>1.0</td>\n",
       "      <td>81840.0</td>\n",
       "    </tr>\n",
       "  </tbody>\n",
       "</table>\n",
       "</div>"
      ],
      "text/plain": [
       "        shortName   x  y       면적 광역시도 행정구역   시도   군구  count       인구수\n",
       "시도군구                                                                  \n",
       "강원도 강릉시        강릉  11  4  1040.07  강원도  강릉시  강원도  강릉시    4.0  213328.0\n",
       "강원도 고성군    고성(강원)   9  0   664.19  강원도  고성군  NaN  NaN    NaN       NaN\n",
       "강원도 동해시        동해  11  5   180.01  강원도  동해시  강원도  동해시    1.0   90417.0\n",
       "강원도 삼척시        삼척  11  8  1185.80  강원도  삼척시  강원도  삼척시    1.0   66806.0\n",
       "강원도 속초시        속초   9  1   105.25  강원도  속초시  강원도  속초시    1.0   81840.0"
      ]
     },
     "execution_count": 51,
     "metadata": {},
     "output_type": "execute_result"
    }
   ],
   "source": [
    "data_draw_korea_MC_Population_all = pd.merge(data_draw_korea,local_MC_Population,  how='outer',  left_index=True, right_index=True)\n",
    "\n",
    "data_draw_korea_MC_Population_all.head()"
   ]
  },
  {
   "cell_type": "markdown",
   "metadata": {},
   "source": [
    "###   (5) 한국지도의 블록맵 경계선 좌표를 리스트로 생성 "
   ]
  },
  {
   "cell_type": "code",
   "execution_count": 53,
   "metadata": {},
   "outputs": [],
   "source": [
    "BORDER_LINES = [\n",
    "    [(3, 2), (5, 2), (5, 3), (9, 3), (9, 1)], # 인천\n",
    "    [(2, 5), (3, 5), (3, 4), (8, 4), (8, 7), (7, 7), (7, 9), (4, 9), (4, 7), (1, 7)], # 서울\n",
    "    [(1, 6), (1, 9), (3, 9), (3, 10), (8, 10), (8, 9),\n",
    "     (9, 9), (9, 8), (10, 8), (10, 5), (9, 5), (9, 3)], # 경기도\n",
    "    [(9, 12), (9, 10), (8, 10)], # 강원도\n",
    "    [(10, 5), (11, 5), (11, 4), (12, 4), (12, 5), (13, 5),\n",
    "     (13, 4), (14, 4), (14, 2)], # 충청남도\n",
    "    [(11, 5), (12, 5), (12, 6), (15, 6), (15, 7), (13, 7),\n",
    "     (13, 8), (11, 8), (11, 9), (10, 9), (10, 8)], # 충청북도\n",
    "    [(14, 4), (15, 4), (15, 6)], # 대전시\n",
    "    [(14, 7), (14, 9), (13, 9), (13, 11), (13, 13)], # 경상북도\n",
    "    [(14, 8), (16, 8), (16, 10), (15, 10),\n",
    "     (15, 11), (14, 11), (14, 12), (13, 12)], # 대구시\n",
    "    [(15, 11), (16, 11), (16, 13)], # 울산시\n",
    "    [(17, 1), (17, 3), (18, 3), (18, 6), (15, 6)], # 전라북도\n",
    "    [(19, 2), (19, 4), (21, 4), (21, 3), (22, 3), (22, 2), (19, 2)], # 광주시\n",
    "    [(18, 5), (20, 5), (20, 6)], # 전라남도\n",
    "    [(16, 9), (18, 9), (18, 8), (19, 8), (19, 9), (20, 9), (20, 10)], # 부산시\n",
    "]"
   ]
  },
  {
   "cell_type": "markdown",
   "metadata": {},
   "source": [
    "###   (6) 블록맵에서 블록에 해당 데이터를 매핑하여 색을 표시하는 함수"
   ]
  },
  {
   "cell_type": "code",
   "execution_count": 54,
   "metadata": {},
   "outputs": [
    {
     "name": "stdout",
     "output_type": "stream",
     "text": [
      "7.0\n",
      "1.0\n"
     ]
    }
   ],
   "source": [
    "vmax = max(data_draw_korea_MC_Population_all['count'])\n",
    "print(vmax)\n",
    "vmin = min(data_draw_korea_MC_Population_all['count'])\n",
    "print(vmin)"
   ]
  },
  {
   "cell_type": "code",
   "execution_count": 55,
   "metadata": {},
   "outputs": [
    {
     "name": "stdout",
     "output_type": "stream",
     "text": [
      "x    0    1    2    3    4    5    6    7    8    9    10   11   12   13\n",
      "y                                                                       \n",
      "0   NaN  NaN  NaN  NaN  NaN  NaN  NaN  NaN  1.0  NaN  NaN  NaN  NaN  NaN\n",
      "1   NaN  NaN  NaN  NaN  NaN  NaN  1.0  NaN  2.0  1.0  NaN  NaN  NaN  NaN\n",
      "2   NaN  NaN  NaN  1.0  4.0  1.0  NaN  1.0  1.0  NaN  NaN  NaN  NaN  NaN\n",
      "3   NaN  NaN  NaN  NaN  2.0  NaN  4.0  1.0  5.0  1.0  5.0  NaN  NaN  NaN\n",
      "4   NaN  1.0  1.0  NaN  NaN  NaN  1.0  1.0  2.0  NaN  1.0  4.0  NaN  NaN\n",
      "5   NaN  1.0  1.0  1.0  1.0  1.0  NaN  1.0  1.0  NaN  NaN  1.0  NaN  NaN\n",
      "6   NaN  NaN  1.0  2.0  NaN  NaN  1.0  1.0  1.0  1.0  NaN  2.0  NaN  1.0\n",
      "7   NaN  NaN  NaN  1.0  NaN  NaN  2.0  NaN  NaN  1.0  2.0  1.0  NaN  NaN\n",
      "8   1.0  2.0  NaN  NaN  1.0  NaN  NaN  2.0  1.0  1.0  1.0  1.0  NaN  NaN\n",
      "9   NaN  NaN  NaN  NaN  2.0  1.0  1.0  4.0  2.0  NaN  1.0  1.0  2.0  NaN\n",
      "10  NaN  2.0  2.0  NaN  3.0  NaN  2.0  1.0  1.0  1.0  2.0  NaN  NaN  NaN\n",
      "11  NaN  NaN  1.0  NaN  NaN  NaN  NaN  NaN  2.0  NaN  1.0  NaN  3.0  NaN\n",
      "12  NaN  NaN  NaN  2.0  1.0  2.0  4.0  NaN  NaN  1.0  NaN  2.0  1.0  NaN\n",
      "13  NaN  NaN  1.0  NaN  7.0  1.0  NaN  1.0  1.0  2.0  2.0  NaN  NaN  NaN\n",
      "14  NaN  NaN  1.0  NaN  NaN  1.0  1.0  NaN  2.0  NaN  1.0  NaN  NaN  NaN\n",
      "15  NaN  NaN  1.0  NaN  2.0  NaN  2.0  1.0  1.0  1.0  NaN  1.0  NaN  NaN\n",
      "16  NaN  1.0  1.0  3.0  1.0  NaN  NaN  1.0  NaN  1.0  NaN  NaN  1.0  NaN\n",
      "17  NaN  1.0  1.0  NaN  NaN  2.0  1.0  NaN  4.0  2.0  NaN  2.0  2.0  NaN\n",
      "18  NaN  2.0  NaN  1.0  NaN  NaN  2.0  7.0  NaN  1.0  NaN  NaN  NaN  NaN\n",
      "19  1.0  1.0  3.0  2.0  2.0  NaN  1.0  NaN  1.0  NaN  NaN  NaN  NaN  NaN\n",
      "20  2.0  1.0  NaN  1.0  2.0  1.0  NaN  NaN  2.0  NaN  NaN  NaN  NaN  NaN\n",
      "21  NaN  NaN  2.0  1.0  1.0  NaN  NaN  NaN  NaN  NaN  NaN  NaN  NaN  NaN\n",
      "22  1.0  1.0  NaN  2.0  NaN  NaN  NaN  NaN  NaN  NaN  NaN  NaN  NaN  NaN\n",
      "23  NaN  NaN  NaN  NaN  NaN  NaN  NaN  NaN  NaN  NaN  NaN  NaN  NaN  NaN\n",
      "24  NaN  NaN  NaN  NaN  3.0  NaN  NaN  NaN  NaN  NaN  NaN  NaN  NaN  NaN\n",
      "25  NaN  NaN  NaN  NaN  2.0  NaN  NaN  NaN  NaN  NaN  NaN  NaN  NaN  NaN\n"
     ]
    }
   ],
   "source": [
    "mapdata = data_draw_korea_MC_Population_all.pivot(index='y', columns='x', values='count')\n",
    "print(mapdata)"
   ]
  },
  {
   "cell_type": "code",
   "execution_count": 56,
   "metadata": {},
   "outputs": [
    {
     "data": {
      "text/html": [
       "<div>\n",
       "<style scoped>\n",
       "    .dataframe tbody tr th:only-of-type {\n",
       "        vertical-align: middle;\n",
       "    }\n",
       "\n",
       "    .dataframe tbody tr th {\n",
       "        vertical-align: top;\n",
       "    }\n",
       "\n",
       "    .dataframe thead th {\n",
       "        text-align: right;\n",
       "    }\n",
       "</style>\n",
       "<table border=\"1\" class=\"dataframe\">\n",
       "  <thead>\n",
       "    <tr style=\"text-align: right;\">\n",
       "      <th>x</th>\n",
       "      <th>0</th>\n",
       "      <th>1</th>\n",
       "      <th>2</th>\n",
       "      <th>3</th>\n",
       "      <th>4</th>\n",
       "      <th>5</th>\n",
       "      <th>6</th>\n",
       "      <th>7</th>\n",
       "      <th>8</th>\n",
       "      <th>9</th>\n",
       "      <th>10</th>\n",
       "      <th>11</th>\n",
       "      <th>12</th>\n",
       "      <th>13</th>\n",
       "    </tr>\n",
       "    <tr>\n",
       "      <th>y</th>\n",
       "      <th></th>\n",
       "      <th></th>\n",
       "      <th></th>\n",
       "      <th></th>\n",
       "      <th></th>\n",
       "      <th></th>\n",
       "      <th></th>\n",
       "      <th></th>\n",
       "      <th></th>\n",
       "      <th></th>\n",
       "      <th></th>\n",
       "      <th></th>\n",
       "      <th></th>\n",
       "      <th></th>\n",
       "    </tr>\n",
       "  </thead>\n",
       "  <tbody>\n",
       "    <tr>\n",
       "      <th>0</th>\n",
       "      <td>True</td>\n",
       "      <td>True</td>\n",
       "      <td>True</td>\n",
       "      <td>True</td>\n",
       "      <td>True</td>\n",
       "      <td>True</td>\n",
       "      <td>True</td>\n",
       "      <td>True</td>\n",
       "      <td>False</td>\n",
       "      <td>True</td>\n",
       "      <td>True</td>\n",
       "      <td>True</td>\n",
       "      <td>True</td>\n",
       "      <td>True</td>\n",
       "    </tr>\n",
       "    <tr>\n",
       "      <th>1</th>\n",
       "      <td>True</td>\n",
       "      <td>True</td>\n",
       "      <td>True</td>\n",
       "      <td>True</td>\n",
       "      <td>True</td>\n",
       "      <td>True</td>\n",
       "      <td>False</td>\n",
       "      <td>True</td>\n",
       "      <td>False</td>\n",
       "      <td>False</td>\n",
       "      <td>True</td>\n",
       "      <td>True</td>\n",
       "      <td>True</td>\n",
       "      <td>True</td>\n",
       "    </tr>\n",
       "    <tr>\n",
       "      <th>2</th>\n",
       "      <td>True</td>\n",
       "      <td>True</td>\n",
       "      <td>True</td>\n",
       "      <td>False</td>\n",
       "      <td>False</td>\n",
       "      <td>False</td>\n",
       "      <td>True</td>\n",
       "      <td>False</td>\n",
       "      <td>False</td>\n",
       "      <td>True</td>\n",
       "      <td>True</td>\n",
       "      <td>True</td>\n",
       "      <td>True</td>\n",
       "      <td>True</td>\n",
       "    </tr>\n",
       "    <tr>\n",
       "      <th>3</th>\n",
       "      <td>True</td>\n",
       "      <td>True</td>\n",
       "      <td>True</td>\n",
       "      <td>True</td>\n",
       "      <td>False</td>\n",
       "      <td>True</td>\n",
       "      <td>False</td>\n",
       "      <td>False</td>\n",
       "      <td>False</td>\n",
       "      <td>False</td>\n",
       "      <td>False</td>\n",
       "      <td>True</td>\n",
       "      <td>True</td>\n",
       "      <td>True</td>\n",
       "    </tr>\n",
       "    <tr>\n",
       "      <th>4</th>\n",
       "      <td>True</td>\n",
       "      <td>False</td>\n",
       "      <td>False</td>\n",
       "      <td>True</td>\n",
       "      <td>True</td>\n",
       "      <td>True</td>\n",
       "      <td>False</td>\n",
       "      <td>False</td>\n",
       "      <td>False</td>\n",
       "      <td>True</td>\n",
       "      <td>False</td>\n",
       "      <td>False</td>\n",
       "      <td>True</td>\n",
       "      <td>True</td>\n",
       "    </tr>\n",
       "    <tr>\n",
       "      <th>5</th>\n",
       "      <td>True</td>\n",
       "      <td>False</td>\n",
       "      <td>False</td>\n",
       "      <td>False</td>\n",
       "      <td>False</td>\n",
       "      <td>False</td>\n",
       "      <td>True</td>\n",
       "      <td>False</td>\n",
       "      <td>False</td>\n",
       "      <td>True</td>\n",
       "      <td>True</td>\n",
       "      <td>False</td>\n",
       "      <td>True</td>\n",
       "      <td>True</td>\n",
       "    </tr>\n",
       "    <tr>\n",
       "      <th>6</th>\n",
       "      <td>True</td>\n",
       "      <td>True</td>\n",
       "      <td>False</td>\n",
       "      <td>False</td>\n",
       "      <td>True</td>\n",
       "      <td>True</td>\n",
       "      <td>False</td>\n",
       "      <td>False</td>\n",
       "      <td>False</td>\n",
       "      <td>False</td>\n",
       "      <td>True</td>\n",
       "      <td>False</td>\n",
       "      <td>True</td>\n",
       "      <td>False</td>\n",
       "    </tr>\n",
       "    <tr>\n",
       "      <th>7</th>\n",
       "      <td>True</td>\n",
       "      <td>True</td>\n",
       "      <td>True</td>\n",
       "      <td>False</td>\n",
       "      <td>True</td>\n",
       "      <td>True</td>\n",
       "      <td>False</td>\n",
       "      <td>True</td>\n",
       "      <td>True</td>\n",
       "      <td>False</td>\n",
       "      <td>False</td>\n",
       "      <td>False</td>\n",
       "      <td>True</td>\n",
       "      <td>True</td>\n",
       "    </tr>\n",
       "    <tr>\n",
       "      <th>8</th>\n",
       "      <td>False</td>\n",
       "      <td>False</td>\n",
       "      <td>True</td>\n",
       "      <td>True</td>\n",
       "      <td>False</td>\n",
       "      <td>True</td>\n",
       "      <td>True</td>\n",
       "      <td>False</td>\n",
       "      <td>False</td>\n",
       "      <td>False</td>\n",
       "      <td>False</td>\n",
       "      <td>False</td>\n",
       "      <td>True</td>\n",
       "      <td>True</td>\n",
       "    </tr>\n",
       "    <tr>\n",
       "      <th>9</th>\n",
       "      <td>True</td>\n",
       "      <td>True</td>\n",
       "      <td>True</td>\n",
       "      <td>True</td>\n",
       "      <td>False</td>\n",
       "      <td>False</td>\n",
       "      <td>False</td>\n",
       "      <td>False</td>\n",
       "      <td>False</td>\n",
       "      <td>True</td>\n",
       "      <td>False</td>\n",
       "      <td>False</td>\n",
       "      <td>False</td>\n",
       "      <td>True</td>\n",
       "    </tr>\n",
       "    <tr>\n",
       "      <th>10</th>\n",
       "      <td>True</td>\n",
       "      <td>False</td>\n",
       "      <td>False</td>\n",
       "      <td>True</td>\n",
       "      <td>False</td>\n",
       "      <td>True</td>\n",
       "      <td>False</td>\n",
       "      <td>False</td>\n",
       "      <td>False</td>\n",
       "      <td>False</td>\n",
       "      <td>False</td>\n",
       "      <td>True</td>\n",
       "      <td>True</td>\n",
       "      <td>True</td>\n",
       "    </tr>\n",
       "    <tr>\n",
       "      <th>11</th>\n",
       "      <td>True</td>\n",
       "      <td>True</td>\n",
       "      <td>False</td>\n",
       "      <td>True</td>\n",
       "      <td>True</td>\n",
       "      <td>True</td>\n",
       "      <td>True</td>\n",
       "      <td>True</td>\n",
       "      <td>False</td>\n",
       "      <td>True</td>\n",
       "      <td>False</td>\n",
       "      <td>True</td>\n",
       "      <td>False</td>\n",
       "      <td>True</td>\n",
       "    </tr>\n",
       "    <tr>\n",
       "      <th>12</th>\n",
       "      <td>True</td>\n",
       "      <td>True</td>\n",
       "      <td>True</td>\n",
       "      <td>False</td>\n",
       "      <td>False</td>\n",
       "      <td>False</td>\n",
       "      <td>False</td>\n",
       "      <td>True</td>\n",
       "      <td>True</td>\n",
       "      <td>False</td>\n",
       "      <td>True</td>\n",
       "      <td>False</td>\n",
       "      <td>False</td>\n",
       "      <td>True</td>\n",
       "    </tr>\n",
       "    <tr>\n",
       "      <th>13</th>\n",
       "      <td>True</td>\n",
       "      <td>True</td>\n",
       "      <td>False</td>\n",
       "      <td>True</td>\n",
       "      <td>False</td>\n",
       "      <td>False</td>\n",
       "      <td>True</td>\n",
       "      <td>False</td>\n",
       "      <td>False</td>\n",
       "      <td>False</td>\n",
       "      <td>False</td>\n",
       "      <td>True</td>\n",
       "      <td>True</td>\n",
       "      <td>True</td>\n",
       "    </tr>\n",
       "    <tr>\n",
       "      <th>14</th>\n",
       "      <td>True</td>\n",
       "      <td>True</td>\n",
       "      <td>False</td>\n",
       "      <td>True</td>\n",
       "      <td>True</td>\n",
       "      <td>False</td>\n",
       "      <td>False</td>\n",
       "      <td>True</td>\n",
       "      <td>False</td>\n",
       "      <td>True</td>\n",
       "      <td>False</td>\n",
       "      <td>True</td>\n",
       "      <td>True</td>\n",
       "      <td>True</td>\n",
       "    </tr>\n",
       "    <tr>\n",
       "      <th>15</th>\n",
       "      <td>True</td>\n",
       "      <td>True</td>\n",
       "      <td>False</td>\n",
       "      <td>True</td>\n",
       "      <td>False</td>\n",
       "      <td>True</td>\n",
       "      <td>False</td>\n",
       "      <td>False</td>\n",
       "      <td>False</td>\n",
       "      <td>False</td>\n",
       "      <td>True</td>\n",
       "      <td>False</td>\n",
       "      <td>True</td>\n",
       "      <td>True</td>\n",
       "    </tr>\n",
       "    <tr>\n",
       "      <th>16</th>\n",
       "      <td>True</td>\n",
       "      <td>False</td>\n",
       "      <td>False</td>\n",
       "      <td>False</td>\n",
       "      <td>False</td>\n",
       "      <td>True</td>\n",
       "      <td>True</td>\n",
       "      <td>False</td>\n",
       "      <td>True</td>\n",
       "      <td>False</td>\n",
       "      <td>True</td>\n",
       "      <td>True</td>\n",
       "      <td>False</td>\n",
       "      <td>True</td>\n",
       "    </tr>\n",
       "    <tr>\n",
       "      <th>17</th>\n",
       "      <td>True</td>\n",
       "      <td>False</td>\n",
       "      <td>False</td>\n",
       "      <td>True</td>\n",
       "      <td>True</td>\n",
       "      <td>False</td>\n",
       "      <td>False</td>\n",
       "      <td>True</td>\n",
       "      <td>False</td>\n",
       "      <td>False</td>\n",
       "      <td>True</td>\n",
       "      <td>False</td>\n",
       "      <td>False</td>\n",
       "      <td>True</td>\n",
       "    </tr>\n",
       "    <tr>\n",
       "      <th>18</th>\n",
       "      <td>True</td>\n",
       "      <td>False</td>\n",
       "      <td>True</td>\n",
       "      <td>False</td>\n",
       "      <td>True</td>\n",
       "      <td>True</td>\n",
       "      <td>False</td>\n",
       "      <td>False</td>\n",
       "      <td>True</td>\n",
       "      <td>False</td>\n",
       "      <td>True</td>\n",
       "      <td>True</td>\n",
       "      <td>True</td>\n",
       "      <td>True</td>\n",
       "    </tr>\n",
       "    <tr>\n",
       "      <th>19</th>\n",
       "      <td>False</td>\n",
       "      <td>False</td>\n",
       "      <td>False</td>\n",
       "      <td>False</td>\n",
       "      <td>False</td>\n",
       "      <td>True</td>\n",
       "      <td>False</td>\n",
       "      <td>True</td>\n",
       "      <td>False</td>\n",
       "      <td>True</td>\n",
       "      <td>True</td>\n",
       "      <td>True</td>\n",
       "      <td>True</td>\n",
       "      <td>True</td>\n",
       "    </tr>\n",
       "    <tr>\n",
       "      <th>20</th>\n",
       "      <td>False</td>\n",
       "      <td>False</td>\n",
       "      <td>True</td>\n",
       "      <td>False</td>\n",
       "      <td>False</td>\n",
       "      <td>False</td>\n",
       "      <td>True</td>\n",
       "      <td>True</td>\n",
       "      <td>False</td>\n",
       "      <td>True</td>\n",
       "      <td>True</td>\n",
       "      <td>True</td>\n",
       "      <td>True</td>\n",
       "      <td>True</td>\n",
       "    </tr>\n",
       "    <tr>\n",
       "      <th>21</th>\n",
       "      <td>True</td>\n",
       "      <td>True</td>\n",
       "      <td>False</td>\n",
       "      <td>False</td>\n",
       "      <td>False</td>\n",
       "      <td>True</td>\n",
       "      <td>True</td>\n",
       "      <td>True</td>\n",
       "      <td>True</td>\n",
       "      <td>True</td>\n",
       "      <td>True</td>\n",
       "      <td>True</td>\n",
       "      <td>True</td>\n",
       "      <td>True</td>\n",
       "    </tr>\n",
       "    <tr>\n",
       "      <th>22</th>\n",
       "      <td>False</td>\n",
       "      <td>False</td>\n",
       "      <td>True</td>\n",
       "      <td>False</td>\n",
       "      <td>True</td>\n",
       "      <td>True</td>\n",
       "      <td>True</td>\n",
       "      <td>True</td>\n",
       "      <td>True</td>\n",
       "      <td>True</td>\n",
       "      <td>True</td>\n",
       "      <td>True</td>\n",
       "      <td>True</td>\n",
       "      <td>True</td>\n",
       "    </tr>\n",
       "    <tr>\n",
       "      <th>23</th>\n",
       "      <td>True</td>\n",
       "      <td>True</td>\n",
       "      <td>True</td>\n",
       "      <td>True</td>\n",
       "      <td>True</td>\n",
       "      <td>True</td>\n",
       "      <td>True</td>\n",
       "      <td>True</td>\n",
       "      <td>True</td>\n",
       "      <td>True</td>\n",
       "      <td>True</td>\n",
       "      <td>True</td>\n",
       "      <td>True</td>\n",
       "      <td>True</td>\n",
       "    </tr>\n",
       "    <tr>\n",
       "      <th>24</th>\n",
       "      <td>True</td>\n",
       "      <td>True</td>\n",
       "      <td>True</td>\n",
       "      <td>True</td>\n",
       "      <td>False</td>\n",
       "      <td>True</td>\n",
       "      <td>True</td>\n",
       "      <td>True</td>\n",
       "      <td>True</td>\n",
       "      <td>True</td>\n",
       "      <td>True</td>\n",
       "      <td>True</td>\n",
       "      <td>True</td>\n",
       "      <td>True</td>\n",
       "    </tr>\n",
       "    <tr>\n",
       "      <th>25</th>\n",
       "      <td>True</td>\n",
       "      <td>True</td>\n",
       "      <td>True</td>\n",
       "      <td>True</td>\n",
       "      <td>False</td>\n",
       "      <td>True</td>\n",
       "      <td>True</td>\n",
       "      <td>True</td>\n",
       "      <td>True</td>\n",
       "      <td>True</td>\n",
       "      <td>True</td>\n",
       "      <td>True</td>\n",
       "      <td>True</td>\n",
       "      <td>True</td>\n",
       "    </tr>\n",
       "  </tbody>\n",
       "</table>\n",
       "</div>"
      ],
      "text/plain": [
       "x      0      1      2      3      4      5      6      7      8      9   \\\n",
       "y                                                                          \n",
       "0    True   True   True   True   True   True   True   True  False   True   \n",
       "1    True   True   True   True   True   True  False   True  False  False   \n",
       "2    True   True   True  False  False  False   True  False  False   True   \n",
       "3    True   True   True   True  False   True  False  False  False  False   \n",
       "4    True  False  False   True   True   True  False  False  False   True   \n",
       "5    True  False  False  False  False  False   True  False  False   True   \n",
       "6    True   True  False  False   True   True  False  False  False  False   \n",
       "7    True   True   True  False   True   True  False   True   True  False   \n",
       "8   False  False   True   True  False   True   True  False  False  False   \n",
       "9    True   True   True   True  False  False  False  False  False   True   \n",
       "10   True  False  False   True  False   True  False  False  False  False   \n",
       "11   True   True  False   True   True   True   True   True  False   True   \n",
       "12   True   True   True  False  False  False  False   True   True  False   \n",
       "13   True   True  False   True  False  False   True  False  False  False   \n",
       "14   True   True  False   True   True  False  False   True  False   True   \n",
       "15   True   True  False   True  False   True  False  False  False  False   \n",
       "16   True  False  False  False  False   True   True  False   True  False   \n",
       "17   True  False  False   True   True  False  False   True  False  False   \n",
       "18   True  False   True  False   True   True  False  False   True  False   \n",
       "19  False  False  False  False  False   True  False   True  False   True   \n",
       "20  False  False   True  False  False  False   True   True  False   True   \n",
       "21   True   True  False  False  False   True   True   True   True   True   \n",
       "22  False  False   True  False   True   True   True   True   True   True   \n",
       "23   True   True   True   True   True   True   True   True   True   True   \n",
       "24   True   True   True   True  False   True   True   True   True   True   \n",
       "25   True   True   True   True  False   True   True   True   True   True   \n",
       "\n",
       "x      10     11     12     13  \n",
       "y                               \n",
       "0    True   True   True   True  \n",
       "1    True   True   True   True  \n",
       "2    True   True   True   True  \n",
       "3   False   True   True   True  \n",
       "4   False  False   True   True  \n",
       "5    True  False   True   True  \n",
       "6    True  False   True  False  \n",
       "7   False  False   True   True  \n",
       "8   False  False   True   True  \n",
       "9   False  False  False   True  \n",
       "10  False   True   True   True  \n",
       "11  False   True  False   True  \n",
       "12   True  False  False   True  \n",
       "13  False   True   True   True  \n",
       "14  False   True   True   True  \n",
       "15   True  False   True   True  \n",
       "16   True   True  False   True  \n",
       "17   True  False  False   True  \n",
       "18   True   True   True   True  \n",
       "19   True   True   True   True  \n",
       "20   True   True   True   True  \n",
       "21   True   True   True   True  \n",
       "22   True   True   True   True  \n",
       "23   True   True   True   True  \n",
       "24   True   True   True   True  \n",
       "25   True   True   True   True  "
      ]
     },
     "execution_count": 56,
     "metadata": {},
     "output_type": "execute_result"
    }
   ],
   "source": [
    "np.isnan(mapdata)"
   ]
  },
  {
   "cell_type": "code",
   "execution_count": 57,
   "metadata": {},
   "outputs": [
    {
     "name": "stdout",
     "output_type": "stream",
     "text": [
      "[[-- -- -- -- -- -- -- -- 1.0 -- -- -- -- --]\n",
      " [-- -- -- -- -- -- 1.0 -- 2.0 1.0 -- -- -- --]\n",
      " [-- -- -- 1.0 4.0 1.0 -- 1.0 1.0 -- -- -- -- --]\n",
      " [-- -- -- -- 2.0 -- 4.0 1.0 5.0 1.0 5.0 -- -- --]\n",
      " [-- 1.0 1.0 -- -- -- 1.0 1.0 2.0 -- 1.0 4.0 -- --]\n",
      " [-- 1.0 1.0 1.0 1.0 1.0 -- 1.0 1.0 -- -- 1.0 -- --]\n",
      " [-- -- 1.0 2.0 -- -- 1.0 1.0 1.0 1.0 -- 2.0 -- 1.0]\n",
      " [-- -- -- 1.0 -- -- 2.0 -- -- 1.0 2.0 1.0 -- --]\n",
      " [1.0 2.0 -- -- 1.0 -- -- 2.0 1.0 1.0 1.0 1.0 -- --]\n",
      " [-- -- -- -- 2.0 1.0 1.0 4.0 2.0 -- 1.0 1.0 2.0 --]\n",
      " [-- 2.0 2.0 -- 3.0 -- 2.0 1.0 1.0 1.0 2.0 -- -- --]\n",
      " [-- -- 1.0 -- -- -- -- -- 2.0 -- 1.0 -- 3.0 --]\n",
      " [-- -- -- 2.0 1.0 2.0 4.0 -- -- 1.0 -- 2.0 1.0 --]\n",
      " [-- -- 1.0 -- 7.0 1.0 -- 1.0 1.0 2.0 2.0 -- -- --]\n",
      " [-- -- 1.0 -- -- 1.0 1.0 -- 2.0 -- 1.0 -- -- --]\n",
      " [-- -- 1.0 -- 2.0 -- 2.0 1.0 1.0 1.0 -- 1.0 -- --]\n",
      " [-- 1.0 1.0 3.0 1.0 -- -- 1.0 -- 1.0 -- -- 1.0 --]\n",
      " [-- 1.0 1.0 -- -- 2.0 1.0 -- 4.0 2.0 -- 2.0 2.0 --]\n",
      " [-- 2.0 -- 1.0 -- -- 2.0 7.0 -- 1.0 -- -- -- --]\n",
      " [1.0 1.0 3.0 2.0 2.0 -- 1.0 -- 1.0 -- -- -- -- --]\n",
      " [2.0 1.0 -- 1.0 2.0 1.0 -- -- 2.0 -- -- -- -- --]\n",
      " [-- -- 2.0 1.0 1.0 -- -- -- -- -- -- -- -- --]\n",
      " [1.0 1.0 -- 2.0 -- -- -- -- -- -- -- -- -- --]\n",
      " [-- -- -- -- -- -- -- -- -- -- -- -- -- --]\n",
      " [-- -- -- -- 3.0 -- -- -- -- -- -- -- -- --]\n",
      " [-- -- -- -- 2.0 -- -- -- -- -- -- -- -- --]]\n"
     ]
    }
   ],
   "source": [
    "masked_mapdata = np.ma.masked_where(np.isnan(mapdata), mapdata)\n",
    "print(masked_mapdata)"
   ]
  },
  {
   "cell_type": "code",
   "execution_count": 58,
   "metadata": {},
   "outputs": [
    {
     "data": {
      "text/plain": [
       "<matplotlib.collections.PolyQuadMesh at 0x1fae80da170>"
      ]
     },
     "execution_count": 58,
     "metadata": {},
     "output_type": "execute_result"
    },
    {
     "data": {
      "image/png": "[encoded data removed]",
      "text/plain": [
       "<Figure size 800x1300 with 1 Axes>"
      ]
     },
     "metadata": {},
     "output_type": "display_data"
    }
   ],
   "source": [
    "    plt.figure(figsize=(8, 13))\n",
    "    plt.title('행정구역별 공공보건의료기관 수')\n",
    "    plt.pcolor(masked_mapdata, vmin=vmin, vmax=vmax, cmap='Blues', edgecolor='#aaaaaa', linewidth=0.5)"
   ]
  },
  {
   "cell_type": "code",
   "execution_count": 59,
   "metadata": {},
   "outputs": [
    {
     "name": "stdout",
     "output_type": "stream",
     "text": [
      "(2, 2, 3, 3, 1) (3, 5, 5, 9, 9)\n"
     ]
    },
    {
     "data": {
      "image/png": "[encoded data removed]",
      "text/plain": [
       "<Figure size 2500x500 with 1 Axes>"
      ]
     },
     "metadata": {},
     "output_type": "display_data"
    }
   ],
   "source": [
    "BORDER_LINES1 = [\n",
    "    [(3, 2), (5, 2), (5, 3), (9, 3), (9, 1)], # 인천\n",
    "#    [(2, 5), (3, 5), (3, 4), (8, 4), (8, 7), (7, 7), (7, 9), (4, 9), (4, 7), (1, 7)], # 서울\n",
    "#    [(1, 6), (1, 9), (3, 9), (3, 10), (8, 10), (8, 9), (9, 9), (9, 8), (10, 8), (10, 5), (9, 5), (9, 3)], # 경기도\n",
    "]\n",
    "\n",
    "\n",
    "for path in BORDER_LINES1:\n",
    "    ys, xs = zip(*path)\n",
    "    print(xs, ys)\n",
    "    plt.plot(xs, ys, c='black', lw=4)\n",
    "\n",
    "plt.gca().invert_yaxis()\n",
    "plt.gca().set_aspect(1)\n",
    "    \n",
    "plt.show()      "
   ]
  },
  {
   "cell_type": "code",
   "execution_count": 60,
   "metadata": {},
   "outputs": [],
   "source": [
    "def draw_blockMap(blockedMap, targetData, title, color ):\n",
    "    whitelabelmin = (max(blockedMap[targetData]) - min(blockedMap[targetData])) * 0.25 + min(blockedMap[targetData])\n",
    "\n",
    "    datalabel = targetData\n",
    "\n",
    "    vmin = min(blockedMap[targetData])\n",
    "    vmax = max(blockedMap[targetData])\n",
    "\n",
    "    mapdata = blockedMap.pivot(index='y', columns='x', values=targetData)\n",
    "    masked_mapdata = np.ma.masked_where(np.isnan(mapdata), mapdata)\n",
    "    \n",
    "    plt.figure(figsize=(8, 13))\n",
    "    plt.title(title)\n",
    "    plt.pcolor(masked_mapdata, vmin=vmin, vmax=vmax, cmap=color, edgecolor='#aaaaaa', linewidth=0.5)\n",
    "\n",
    "    # 지역 이름 표시\n",
    "    for idx, row in blockedMap.iterrows():\n",
    "        annocolor = 'white' if row[targetData] > whitelabelmin else 'black'\n",
    "    \n",
    "        # 광역시는 구 이름이 겹치는 경우가 많아서 시단위 이름도 같이 표시한다. (중구, 서구)\n",
    "        if row['광역시도'].endswith('시') and not row['광역시도'].startswith('세종'):\n",
    "            dispname = '{}\\n{}'.format(row['광역시도'][:2], row['행정구역'][:-1])\n",
    "            if len(row['행정구역']) <= 2:\n",
    "                dispname += row['행정구역'][-1]\n",
    "        else:\n",
    "            dispname = row['행정구역'][:-1]\n",
    "\n",
    "        # 서대문구, 서귀포시 같이 이름이 3자 이상인 경우에 작은 글자로 표시한다.\n",
    "        if len(dispname.splitlines()[-1]) >= 3:\n",
    "            fontsize, linespacing = 9.5, 1.5\n",
    "        else:\n",
    "            fontsize, linespacing = 11, 1.2\n",
    "\n",
    "        plt.annotate(dispname, (row['x']+0.5, row['y']+0.5), weight='bold',\n",
    "                     fontsize=fontsize, ha='center', va='center', color=annocolor,\n",
    "                     linespacing=linespacing)\n",
    "    \n",
    "    # 시도 경계 그린다.\n",
    "    for path in BORDER_LINES:\n",
    "        ys, xs = zip(*path)\n",
    "        plt.plot(xs, ys, c='black', lw=4)\n",
    "\n",
    "    plt.gca().invert_yaxis()\n",
    "    #plt.gca().set_aspect(1)\n",
    "    plt.axis('off')\n",
    "    \n",
    "    cb = plt.colorbar(shrink=.1, aspect=10)\n",
    "    #cb.set_label(datalabel)\n",
    "\n",
    "    plt.tight_layout()\n",
    "    \n",
    "    plt.savefig('.\\\\' + 'blockMap_' + targetData + '.png')\n",
    "                      \n",
    "    \n",
    "    plt.show()      "
   ]
  },
  {
   "cell_type": "markdown",
   "metadata": {},
   "source": [
    "###   (7) 함수를 호출하여 블록맵 생성하기"
   ]
  },
  {
   "cell_type": "markdown",
   "metadata": {},
   "source": [
    "#####     - 행정구역별 인구에 대한 의료기관 수에 대한 블록맵"
   ]
  },
  {
   "cell_type": "code",
   "execution_count": 61,
   "metadata": {},
   "outputs": [
    {
     "name": "stderr",
     "output_type": "stream",
     "text": [
      "C:\\Users\\park\\AppData\\Local\\Temp\\ipykernel_10456\\832788814.py:47: MatplotlibDeprecationWarning: Getting the array from a PolyQuadMesh will return the full array in the future (uncompressed). To get this behavior now set the PolyQuadMesh with a 2D array .set_array(data2d).\n",
      "  cb = plt.colorbar(shrink=.1, aspect=10)\n"
     ]
    },
    {
     "data": {
      "image/png": "[encoded data removed]",
      "text/plain": [
       "<Figure size 800x1300 with 2 Axes>"
      ]
     },
     "metadata": {},
     "output_type": "display_data"
    }
   ],
   "source": [
    "draw_blockMap(data_draw_korea_MC_Population_all, 'count', '행정구역별 공공보건의료기관 수', 'Blues')"
   ]
  },
  {
   "cell_type": "markdown",
   "metadata": {},
   "source": [
    "#####     - 행정구역별 인구에 대한 의료기관 비율에 대한 블록맵"
   ]
  },
  {
   "cell_type": "code",
   "execution_count": null,
   "metadata": {},
   "outputs": [],
   "source": [
    "draw_blockMap(data_draw_korea_MC_Population_all, 'MC_ratio', '행정구역별 인구수 대비 공공보건의료기관 비율', 'Reds' )"
   ]
  }
 ],
 "metadata": {
  "kernelspec": {
   "display_name": "Python 3 (ipykernel)",
   "language": "python",
   "name": "python3"
  },
  "language_info": {
   "codemirror_mode": {
    "name": "ipython",
    "version": 3
   },
   "file_extension": ".py",
   "mimetype": "text/x-python",
   "name": "python",
   "nbconvert_exporter": "python",
   "pygments_lexer": "ipython3",
   "version": "3.10.11"
  }
 },
 "nbformat": 4,
 "nbformat_minor": 2
}
