{
 "cells": [
  {
   "cell_type": "markdown",
   "metadata": {},
   "source": [
    "# 9장. 지리 정보 분석 (1) 주소데이터분석+맵"
   ]
  },
  {
   "cell_type": "markdown",
   "metadata": {},
   "source": [
    "# 1. 데이터 수집"
   ]
  },
  {
   "cell_type": "markdown",
   "metadata": {},
   "source": [
    "### 데이터 파일 읽어오기"
   ]
  },
  {
   "cell_type": "code",
   "execution_count": null,
   "metadata": {
    "scrolled": true
   },
   "outputs": [],
   "source": [
    "import pandas as pd\n",
    "\n",
    "CB = pd.read_csv('./CoffeeBean.csv', encoding='CP949', index_col=0, header=0, engine='python')\n",
    "\n",
    "CB.head()  #작업 내용 확인용 출력"
   ]
  },
  {
   "cell_type": "markdown",
   "metadata": {},
   "source": [
    "# 2. 데이터 준비 및 탐색"
   ]
  },
  {
   "cell_type": "markdown",
   "metadata": {},
   "source": [
    "## 시/도 행정구역 이름 정규화"
   ]
  },
  {
   "cell_type": "code",
   "execution_count": null,
   "metadata": {},
   "outputs": [],
   "source": [
    "addr = []\n",
    "\n",
    "for address in CB.address:\n",
    "    addr.append(str(address).split())\n",
    "\n",
    "#작업 내용 확인용 출력\n",
    "print('데이터 개수 : %d' % len(addr)) \n",
    "addr  "
   ]
  },
  {
   "cell_type": "markdown",
   "metadata": {},
   "source": [
    "### - addr에서 행정구역 표준 이름이 아닌것 수정하기"
   ]
  },
  {
   "cell_type": "code",
   "execution_count": null,
   "metadata": {},
   "outputs": [],
   "source": [
    "addr2 = []\n",
    "\n",
    "# addr에서 행정구역 표준 이름이 아닌것 수정하기\n",
    "for i in range(len(addr)):\n",
    "    if addr[i][0] == \"서울\": addr[i][0]=\"서울특별시\"\n",
    "    elif addr[i][0] == \"서울시\": addr[i][0]=\"서울특별시\"\n",
    "    elif addr[i][0] == \"부산시\": addr[i][0]=\"부산광역시\"\n",
    "    elif addr[i][0] == \"인천\": addr[i][0]=\"인천광역시\"\n",
    "    elif addr[i][0] == \"광주\": addr[i][0]=\"광주광역시\"\n",
    "    elif addr[i][0] == \"대전시\": addr[i][0]=\"대전광역시\"\n",
    "    elif addr[i][0] == \"울산시\": addr[i][0]=\"울산광역시\"    \n",
    "    elif addr[i][0] == \"세종시\": addr[i][0]=\"세종특별자치시\"\n",
    "    elif addr[i][0] == \"경기\": addr[i][0]=\"경기도\"\n",
    "    elif addr[i][0] == \"충북\": addr[i][0]=\"충청북도\"\n",
    "    elif addr[i][0] == \"충남\": addr[i][0]=\"충청남도\"\n",
    "    elif addr[i][0] == \"전북\": addr[i][0]=\"전라북도\"\n",
    "    elif addr[i][0] == \"전남\": addr[i][0]=\"전라남도\"\n",
    "    elif addr[i][0] == \"경북\": addr[i][0]=\"경상북도\"\n",
    "    elif addr[i][0] == \"경남\": addr[i][0]=\"경상남도\"\n",
    "    elif addr[i][0] == \"제주\": addr[i][0]=\"제주특별자치도\"\n",
    "    elif addr[i][0] == \"제주도\": addr[i][0]=\"제주특별자치도\"\n",
    "    elif addr[i][0] == \"제주시\": addr[i][0]=\"제주특별자치도\"                                \n",
    "       \n",
    "    addr2.append(' '.join(addr[i]))  \n",
    "\n",
    "addr2 #작업 내용 확인용 출력"
   ]
  },
  {
   "cell_type": "code",
   "execution_count": null,
   "metadata": {
    "scrolled": true
   },
   "outputs": [],
   "source": [
    "addr2 = pd.DataFrame(addr2, columns=['address2'])\n",
    "\n",
    "addr2 #작업 내용 확인용 출력"
   ]
  },
  {
   "cell_type": "code",
   "execution_count": null,
   "metadata": {},
   "outputs": [],
   "source": [
    "CB2 = pd.concat([CB, addr2],  axis=1 )\n",
    "\n",
    "CB2.head()  #작업 내용 확인용 출력"
   ]
  },
  {
   "cell_type": "code",
   "execution_count": null,
   "metadata": {},
   "outputs": [],
   "source": [
    "CB2.to_csv('./CoffeeBean_2.csv',encoding='CP949', index = False)"
   ]
  },
  {
   "cell_type": "markdown",
   "metadata": {},
   "source": [
    "# 3. 데이터 모델링"
   ]
  },
  {
   "cell_type": "markdown",
   "metadata": {},
   "source": [
    "### - 지도 정보 시각화 라이브러리 설치 및 임포트하기"
   ]
  },
  {
   "cell_type": "code",
   "execution_count": null,
   "metadata": {},
   "outputs": [],
   "source": [
    "!pip install folium"
   ]
  },
  {
   "cell_type": "code",
   "execution_count": null,
   "metadata": {},
   "outputs": [],
   "source": [
    "import folium"
   ]
  },
  {
   "cell_type": "markdown",
   "metadata": {},
   "source": [
    "### 1) 숭례문 좌표를 사용하여 지도 객체 테스트하기"
   ]
  },
  {
   "cell_type": "code",
   "execution_count": null,
   "metadata": {},
   "outputs": [],
   "source": [
    "map_osm = folium.Map(location=[37.560284, 126.975334], zoom_start = 16)"
   ]
  },
  {
   "cell_type": "code",
   "execution_count": null,
   "metadata": {},
   "outputs": [],
   "source": [
    "map_osm.save('./map.html')"
   ]
  },
  {
   "cell_type": "markdown",
   "metadata": {},
   "source": [
    "### 2) 정리해둔 CoffeeBean_2.csv 파일 로드"
   ]
  },
  {
   "cell_type": "code",
   "execution_count": null,
   "metadata": {},
   "outputs": [],
   "source": [
    "CB_file = pd.read_csv('./CoffeeBean_2.csv',encoding='cp949',  engine='python')\n",
    "\n",
    "CB_file.head() #작업 내용 확인용 출력"
   ]
  },
  {
   "cell_type": "markdown",
   "metadata": {},
   "source": [
    "### 3) 지오서비스웹(GEOSERVICE-WEB)을 사용하여 구한 GPS 좌표 파일 로드"
   ]
  },
  {
   "cell_type": "code",
   "execution_count": null,
   "metadata": {},
   "outputs": [],
   "source": [
    "CB_geoData = pd.read_csv('./CB_geo_sph_2.csv',encoding='utf8',  engine='python')\n",
    "\n",
    "len(CB_geoData) #확인용 출력"
   ]
  },
  {
   "cell_type": "code",
   "execution_count": null,
   "metadata": {},
   "outputs": [],
   "source": [
    "map_CB = folium.Map(location=[37.560284, 126.975334], zoom_start = 15)"
   ]
  },
  {
   "cell_type": "code",
   "execution_count": null,
   "metadata": {},
   "outputs": [],
   "source": [
    "for i, store in CB_geoData.iterrows():   \n",
    "    folium.Marker(location=[store['_Y'], store['_X']], popup= store['store'], icon=folium.Icon(color='red', icon='star')).add_to(map_CB)"
   ]
  },
  {
   "cell_type": "code",
   "execution_count": null,
   "metadata": {},
   "outputs": [],
   "source": [
    "map_CB.save('./map_CB.html')"
   ]
  },
  {
   "cell_type": "code",
   "execution_count": null,
   "metadata": {},
   "outputs": [],
   "source": [
    "import webbrowser\n",
    "\n",
    "webbrowser.open('C:/Users/logic/map_CB.html')"
   ]
  }
 ],
 "metadata": {
  "kernelspec": {
   "display_name": "Python 3 (ipykernel)",
   "language": "python",
   "name": "python3"
  },
  "language_info": {
   "codemirror_mode": {
    "name": "ipython",
    "version": 3
   },
   "file_extension": ".py",
   "mimetype": "text/x-python",
   "name": "python",
   "nbconvert_exporter": "python",
   "pygments_lexer": "ipython3",
   "version": "3.11.7"
  }
 },
 "nbformat": 4,
 "nbformat_minor": 2
}
